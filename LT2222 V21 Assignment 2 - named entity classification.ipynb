{
 "cells": [
  {
   "cell_type": "markdown",
   "metadata": {},
   "source": [
    "## Introduction\n",
    "\n",
    "In this assignment, you are going to build a classifier for named entities from the Groningen Meaning Bank corpus.  Named entity recognition (NER) takes noun phrases from a text and identifies whether they are persons, organizations, and so on.  You will be using the Groningen Meaning Bank named entity corpus available on mltgpu at `/scratch/lt2222-v21-resources/GMB_dataset.txt`.  In this version of the task, you will assume we know *that* something is a named entity, and instead use multi-class classification to identify its type.  So you will be doing named entity classification but *not* recognition.\n",
    "\n",
    "The data looks like this: \n",
    "\n",
    "```\n",
    "3996    182.0   Nicole  NNP     B-per\n",
    "3997    182.0   Ritchie NNP     I-per\n",
    "3998    182.0   is      VBZ     O\n",
    "3999    182.0   pregnant        JJ      O\n",
    "4000    182.0   .       .       O\n",
    "4001    183.0   Speaking        VBG     O\n",
    "4002    183.0   to      TO      O\n",
    "4003    183.0   ABC     NNP     B-org\n",
    "4004    183.0   News    NNP     I-org\n",
    "4005    183.0   interviewer     NN      O\n",
    "4006    183.0   Dianne  NNP     B-per\n",
    "4007    183.0   Sawyer  NNP     I-per\n",
    "4008    183.0   ,       ,       O\n",
    "4009    183.0   the     DT      O\n",
    "4010    183.0   25-year-old     JJ      O\n",
    "4011    183.0   co-star NN      O\n",
    "4012    183.0   of      IN      O\n",
    "4013    183.0   TV      NN      O\n",
    "4014    183.0   's      POS     O\n",
    "4015    183.0   The     DT      B-art\n",
    "4016    183.0   Simple  NNP     I-art\n",
    "4017    183.0   Life    NNP     I-art\n",
    "4018    183.0   said    VBD     O\n",
    "4019    183.0   she     PRP     O\n",
    "4020    183.0   is      VBZ     O\n",
    "4021    183.0   almost  RB      O\n",
    "4022    183.0   four    CD      O\n",
    "4023    183.0   months  NNS     O\n",
    "4024    183.0   along   IN      O\n",
    "4025    183.0   in      IN      O\n",
    "4026    183.0   her     PRP$    O\n",
    "4027    183.0   pregnancy       NN      O\n",
    "4028    183.0   .       .       O\n",
    "```\n",
    "\n",
    "The first column is the line number.  The second column is a sentence number (for some reason given as a float; ignore it).  The third column is the word.  The fourth column is a part of speech (POS) tag in Penn Treebank format.  The last column contains the named entity annotation. \n",
    "\n",
    "The annotation works like this.  Every `O` just means that the row does not represent a named entity.  `B-xyx` means the first word in a named entity with type `xyx`. `I-xyz` means the second and later words of an `xyz` entity, if there are any.  That means that every time there's a `B` or an `I`, there's a named entity.  \n",
    "\n",
    "The entity types in the corpus are `art`,\n",
    "`eve`,\n",
    "`geo`,\n",
    "`gpe`,\n",
    "`nat`,\n",
    "`org`,\n",
    "`per`,\n",
    "and `tim`\n",
    "\n",
    "Your task is the following.\n",
    "\n",
    "1. To preprocess the text (lowercase and lemmatize; punctuation can be preserved as it gets its own rows).\n",
    "\n",
    "2. To create instances from every from every identified named entity in the text with the type of the NE as the class, and a surrounding context of five words on either side as the features.  \n",
    "\n",
    "3. To generate vectors and split the instances into training and testing datasets at random.\n",
    "\n",
    "4. To train a support vector machine (via `sklearn.svm.LinearSVC`) for classifying the NERs.\n",
    "\n",
    "5. To evaluate the performance of the classifier.\n",
    "\n",
    "\n",
    "You will do this by modifying a separate file containing functions that will be called from this notebook as a module.  You can modify this notebook for testing purposes but please only submit the original.  You will document everything in Markdown in README.md and submit a GitHub repository URL.\n",
    "\n",
    "This assignment is due on **Tuesday, 2021 March 9 at 23:59**.  It has **25 points** and **7 bonus points**."
   ]
  },
  {
   "cell_type": "code",
   "execution_count": 1,
   "metadata": {},
   "outputs": [
    {
     "output_type": "stream",
     "name": "stderr",
     "text": [
      "[nltk_data] Downloading package wordnet to\n[nltk_data]     /home/gussarayo@GU.GU.SE/nltk_data...\n[nltk_data]   Package wordnet is already up-to-date!\n"
     ]
    }
   ],
   "source": [
    "import a2\n",
    "from sklearn.svm import LinearSVC\n",
    "\n"
   ]
  },
  {
   "cell_type": "code",
   "execution_count": 3,
   "metadata": {},
   "outputs": [],
   "source": [
    "gmbfile = open('/scratch/lt2222-v21-resources/GMB_dataset.txt', \"r\")"
   ]
  },
  {
   "cell_type": "markdown",
   "metadata": {},
   "source": [
    "## Part 1 - preprocessing (3 points)"
   ]
  },
  {
   "cell_type": "markdown",
   "metadata": {},
   "source": [
    "See step 1 above.  The data is coming to you as an unused file handle object.  You can return the data in any indexable form you like.  You can also choose to remove infrequent or uninformative words to reduce the size of the feature space. (Document this in README.md.)"
   ]
  },
  {
   "cell_type": "code",
   "execution_count": 4,
   "metadata": {},
   "outputs": [
    {
     "output_type": "execute_result",
     "data": {
      "text/plain": [
       "    Line_No  Sentence_No          Word  POS    NER\n",
       "0         0            1      thousand  NNS      O\n",
       "1         1            1            of   IN      O\n",
       "2         2            1  demonstrator  NNS      O\n",
       "3         3            1          have  VBP      O\n",
       "4         4            1         march  VBN      O\n",
       "5         5            1       through   IN      O\n",
       "6         6            1        london  NNP  B-geo\n",
       "7         7            1            to   TO      O\n",
       "8         8            1       protest   VB      O\n",
       "9         9            1           the   DT      O\n",
       "10       10            1           war   NN      O\n",
       "11       11            1            in   IN      O\n",
       "12       12            1          iraq  NNP  B-geo\n",
       "13       13            1           and   CC      O\n",
       "14       14            1        demand   VB      O\n",
       "15       15            1           the   DT      O\n",
       "16       16            1    withdrawal   NN      O\n",
       "17       17            1            of   IN      O\n",
       "18       18            1       british   JJ  B-gpe\n",
       "19       19            1         troop  NNS      O"
      ],
      "text/html": "<div>\n<style scoped>\n    .dataframe tbody tr th:only-of-type {\n        vertical-align: middle;\n    }\n\n    .dataframe tbody tr th {\n        vertical-align: top;\n    }\n\n    .dataframe thead th {\n        text-align: right;\n    }\n</style>\n<table border=\"1\" class=\"dataframe\">\n  <thead>\n    <tr style=\"text-align: right;\">\n      <th></th>\n      <th>Line_No</th>\n      <th>Sentence_No</th>\n      <th>Word</th>\n      <th>POS</th>\n      <th>NER</th>\n    </tr>\n  </thead>\n  <tbody>\n    <tr>\n      <th>0</th>\n      <td>0</td>\n      <td>1</td>\n      <td>thousand</td>\n      <td>NNS</td>\n      <td>O</td>\n    </tr>\n    <tr>\n      <th>1</th>\n      <td>1</td>\n      <td>1</td>\n      <td>of</td>\n      <td>IN</td>\n      <td>O</td>\n    </tr>\n    <tr>\n      <th>2</th>\n      <td>2</td>\n      <td>1</td>\n      <td>demonstrator</td>\n      <td>NNS</td>\n      <td>O</td>\n    </tr>\n    <tr>\n      <th>3</th>\n      <td>3</td>\n      <td>1</td>\n      <td>have</td>\n      <td>VBP</td>\n      <td>O</td>\n    </tr>\n    <tr>\n      <th>4</th>\n      <td>4</td>\n      <td>1</td>\n      <td>march</td>\n      <td>VBN</td>\n      <td>O</td>\n    </tr>\n    <tr>\n      <th>5</th>\n      <td>5</td>\n      <td>1</td>\n      <td>through</td>\n      <td>IN</td>\n      <td>O</td>\n    </tr>\n    <tr>\n      <th>6</th>\n      <td>6</td>\n      <td>1</td>\n      <td>london</td>\n      <td>NNP</td>\n      <td>B-geo</td>\n    </tr>\n    <tr>\n      <th>7</th>\n      <td>7</td>\n      <td>1</td>\n      <td>to</td>\n      <td>TO</td>\n      <td>O</td>\n    </tr>\n    <tr>\n      <th>8</th>\n      <td>8</td>\n      <td>1</td>\n      <td>protest</td>\n      <td>VB</td>\n      <td>O</td>\n    </tr>\n    <tr>\n      <th>9</th>\n      <td>9</td>\n      <td>1</td>\n      <td>the</td>\n      <td>DT</td>\n      <td>O</td>\n    </tr>\n    <tr>\n      <th>10</th>\n      <td>10</td>\n      <td>1</td>\n      <td>war</td>\n      <td>NN</td>\n      <td>O</td>\n    </tr>\n    <tr>\n      <th>11</th>\n      <td>11</td>\n      <td>1</td>\n      <td>in</td>\n      <td>IN</td>\n      <td>O</td>\n    </tr>\n    <tr>\n      <th>12</th>\n      <td>12</td>\n      <td>1</td>\n      <td>iraq</td>\n      <td>NNP</td>\n      <td>B-geo</td>\n    </tr>\n    <tr>\n      <th>13</th>\n      <td>13</td>\n      <td>1</td>\n      <td>and</td>\n      <td>CC</td>\n      <td>O</td>\n    </tr>\n    <tr>\n      <th>14</th>\n      <td>14</td>\n      <td>1</td>\n      <td>demand</td>\n      <td>VB</td>\n      <td>O</td>\n    </tr>\n    <tr>\n      <th>15</th>\n      <td>15</td>\n      <td>1</td>\n      <td>the</td>\n      <td>DT</td>\n      <td>O</td>\n    </tr>\n    <tr>\n      <th>16</th>\n      <td>16</td>\n      <td>1</td>\n      <td>withdrawal</td>\n      <td>NN</td>\n      <td>O</td>\n    </tr>\n    <tr>\n      <th>17</th>\n      <td>17</td>\n      <td>1</td>\n      <td>of</td>\n      <td>IN</td>\n      <td>O</td>\n    </tr>\n    <tr>\n      <th>18</th>\n      <td>18</td>\n      <td>1</td>\n      <td>british</td>\n      <td>JJ</td>\n      <td>B-gpe</td>\n    </tr>\n    <tr>\n      <th>19</th>\n      <td>19</td>\n      <td>1</td>\n      <td>troop</td>\n      <td>NNS</td>\n      <td>O</td>\n    </tr>\n  </tbody>\n</table>\n</div>"
     },
     "metadata": {},
     "execution_count": 4
    }
   ],
   "source": [
    "\n",
    "inputdata = a2.preprocess(gmbfile)\n",
    "gmbfile.close()\n",
    "inputdata[0:20]"
   ]
  },
  {
   "cell_type": "markdown",
   "metadata": {},
   "source": [
    "## Part 2 - Creating instances (7 points)"
   ]
  },
  {
   "cell_type": "markdown",
   "metadata": {},
   "source": [
    "Do step 2 above.  You will create a collection of Instance objects.  Remember to consider the case where the NE is at the beginning of a sentence or at the end, or close to either (you can create a special start token for that).  You can also start counting from before the `B` end of the NE mention and after the last `I` of the NE mention. That means that the instances should include things before and after the named entity mention, but not the named entity text itself."
   ]
  },
  {
   "cell_type": "code",
   "execution_count": 5,
   "metadata": {
    "tags": []
   },
   "outputs": [],
   "source": [
    "\n",
    "instances = a2.create_instances(inputdata)"
   ]
  },
  {
   "cell_type": "code",
   "execution_count": 6,
   "metadata": {},
   "outputs": [
    {
     "output_type": "execute_result",
     "data": {
      "text/plain": [
       "[Class: gpe Features: ['<S5>', 'this', 'week', 'restart', 'part', 'the', 'conversion', 'process', 'at', '</S5>'],\n",
       " Class: geo Features: ['<S1>', '<S2>', '<S3>', '<S4>', '<S5>', '</S5>', '</S4>', '</S3>', '</S2>', '</S1>'],\n",
       " Class: gpe Features: ['<S5>', 'official', 'say', 'they', 'expect', 'get', 'access', 'to', 'sealed', 'sensitive'],\n",
       " Class: tim Features: ['<S2>', '<S3>', '<S4>', '<S5>', 'surveillance', 'begin', 'function', '</S5>', '</S4>', '</S3>'],\n",
       " Class: org Features: ['<S5>', 'surveillance', 'system', 'begin', 'function', '</S5>', '</S4>', '</S3>', '</S2>', '</S1>'],\n",
       " Class: org Features: ['<S2>', '<S3>', '<S4>', '<S5>', 'backing', 'threaten', 'to', 'refer', '</S5>', '</S4>'],\n",
       " Class: gpe Features: ['<S5>', 'backing', 'have', 'threaten', 'to', '</S5>', '</S4>', '</S3>', '</S2>', '</S1>'],\n",
       " Class: gpe Features: ['<S1>', '<S2>', '<S3>', '<S4>', '<S5>', 'which', 'could', 'impose', 'sanction', 'if'],\n",
       " Class: org Features: ['<S3>', '<S4>', '<S5>', 'which', 'could', 'sanction', 'if', 'it', 'find', '</S5>'],\n",
       " Class: gpe Features: ['<S1>', '<S2>', '<S3>', '<S4>', '<S5>', 'treaty', '</S5>', '</S4>', '</S3>', '</S2>'],\n",
       " Class: art Features: ['<S1>', '<S2>', '<S3>', '<S4>', '<S5>', '</S5>', '</S4>', '</S3>', '</S2>', '</S1>'],\n",
       " Class: gpe Features: ['<S1>', '<S2>', '<S3>', '<S4>', '<S5>', 'say', '</S5>', '</S4>', '</S3>', '</S2>'],\n",
       " Class: per Features: ['<S1>', '<S2>', '<S3>', '<S4>', '<S5>', '</S5>', '</S4>', '</S3>', '</S2>', '</S1>'],\n",
       " Class: tim Features: ['<S3>', '<S4>', '<S5>', 'incentive', 'aim', 'persuade', '</S5>', '</S4>', '</S3>', '</S2>'],\n",
       " Class: gpe Features: ['<S5>', 'incentive', 'aim', 'at', 'persuade', 'to', 'end', 'nuclear', 'fuel', 'program'],\n",
       " Class: gpe Features: ['<S5>', 'to', 'end', 'nuclear', 'fuel', 'be', 'an', 'insult', 'to', 'the'],\n",
       " Class: gpe Features: ['<S1>', '<S2>', '<S3>', '<S4>', '<S5>', '</S5>', '</S4>', '</S3>', '</S2>', '</S1>'],\n",
       " Class: gpe Features: ['<S2>', '<S3>', '<S4>', '<S5>', 'oil', 'be', 'kidnap', 'by', 'armed', 'militant'],\n",
       " Class: gpe Features: ['<S5>', 'oil', 'worker', 'be', 'kidnap', 'armed', 'militant', 'during', 'a', 'raid'],\n",
       " Class: geo Features: ['<S1>', '<S2>', '<S3>', '<S4>', '<S5>', '</S5>', '</S4>', '</S3>', '</S2>', '</S1>']]"
      ]
     },
     "metadata": {},
     "execution_count": 6
    }
   ],
   "source": [
    "instances[20:40]"
   ]
  },
  {
   "cell_type": "markdown",
   "metadata": {},
   "source": [
    "## Part 3 - Creating the table and splitting (10 points)\n",
    "\n",
    "Here you're going to write the functions that create a data table with \"document\" vectors representing each instance and split the table into training and testing sets and random with an 80%/20% train/test split."
   ]
  },
  {
   "cell_type": "code",
   "execution_count": 7,
   "metadata": {},
   "outputs": [
    {
     "output_type": "execute_result",
     "data": {
      "text/plain": [
       "   Class         0         1         2         3         4         5  \\\n",
       "20   gpe  5.032928 -1.120715  0.375585  0.116922  0.145641 -0.487438   \n",
       "21   gpe  5.989315  0.056117 -0.157471 -0.094129 -0.125747 -0.019278   \n",
       "22   gpe  4.991326  0.047065 -0.132388 -0.079418 -0.106476 -0.016392   \n",
       "23   gpe  5.030752  0.568323  0.758935  0.168941  0.158547  0.022137   \n",
       "24   gpe  7.997703  0.133758 -0.194957 -0.166327 -0.280392 -0.060328   \n",
       "25   gpe  6.028335 -0.904722  0.224634  0.021182 -0.067715  0.884588   \n",
       "26   gpe  6.000123  0.074781 -0.239641 -0.181075 -0.329846 -0.087698   \n",
       "27   gpe  5.998953  0.072186 -0.226844 -0.164635 -0.280608 -0.063379   \n",
       "28   gpe  6.012878  0.124895 -0.685803  0.906508  0.261858  0.018889   \n",
       "29   gpe  6.008186  0.099747 -0.404621 -0.711291  0.869033  0.038004   \n",
       "30   per  5.032928 -1.120715  0.375585  0.116922  0.145641 -0.487438   \n",
       "31   per  7.001126  0.127837 -0.174950 -0.157143 -0.271199 -0.059313   \n",
       "32   per  3.999840  0.074140 -0.084181 -0.076430 -0.123005 -0.023412   \n",
       "33   per  9.986998  0.111728 -0.265114 -0.173148 -0.246684 -0.041562   \n",
       "34   per  4.033236  0.585164  0.844167  0.208181  0.214594  0.032334   \n",
       "35   per  4.002002  0.062706 -0.154021 -0.131447 -0.264422 -0.089293   \n",
       "36   per  7.992529  0.108977 -0.195620 -0.142891 -0.215504 -0.039051   \n",
       "37   per  6.028335 -0.904722  0.224634  0.021182 -0.067715  0.884588   \n",
       "38   per  6.000123  0.074781 -0.239641 -0.181075 -0.329846 -0.087698   \n",
       "39   per  5.998953  0.072186 -0.226844 -0.164635 -0.280608 -0.063379   \n",
       "\n",
       "           6         7         8  ...       290       291       292  \\\n",
       "20 -0.001267 -0.004255  0.001975  ... -0.000010  0.000022  0.000018   \n",
       "21 -0.004521 -0.022386  0.034266  ...  0.000350 -0.000840  0.000715   \n",
       "22 -0.003859 -0.019125  0.029345  ...  0.000086 -0.000208  0.000184   \n",
       "23 -0.021922  0.016067 -0.048622  ... -0.000188 -0.000541 -0.000508   \n",
       "24  0.018610 -0.101562  0.285300  ... -0.008051  0.006657  0.004575   \n",
       "25  0.006081  0.025655 -0.028096  ... -0.000014  0.000031  0.000028   \n",
       "26 -0.062631 -0.550162 -0.670491  ...  0.000004 -0.000009  0.000008   \n",
       "27 -0.026210 -0.155031  0.548019  ...  0.000004 -0.000010  0.000009   \n",
       "28  0.002698  0.011721 -0.011259  ...  0.000006 -0.000002  0.000020   \n",
       "29  0.005342  0.023739 -0.027885  ...  0.000010 -0.000041 -0.000010   \n",
       "30 -0.001267 -0.004255  0.001975  ... -0.000010  0.000022  0.000018   \n",
       "31  0.017941 -0.100628  0.280964  ... -0.037642  0.001758  0.022341   \n",
       "32 -0.008935 -0.038375  0.075469  ...  0.015481  0.016989  0.008844   \n",
       "33  0.004177 -0.048153  0.090687  ...  0.017931 -0.000081  0.009993   \n",
       "34 -0.010042  0.037359 -0.087074  ... -0.000899 -0.000168  0.001688   \n",
       "35  1.242905  0.475836 -0.214955  ... -0.000407 -0.000102 -0.000351   \n",
       "36 -0.008063 -0.058871  0.120463  ...  0.002357 -0.002322 -0.002389   \n",
       "37  0.006081  0.025655 -0.028096  ... -0.000014  0.000031  0.000028   \n",
       "38 -0.062631 -0.550162 -0.670491  ...  0.000004 -0.000009  0.000008   \n",
       "39 -0.026210 -0.155031  0.548019  ...  0.000004 -0.000010  0.000009   \n",
       "\n",
       "             293       294       295       296       297       298       299  \n",
       "20 -4.065066e-07 -0.000015  0.000003  0.000006 -0.000004  0.000007 -0.000013  \n",
       "21  2.269531e-03 -0.001777  0.001041  0.001311 -0.001134  0.000690  0.000399  \n",
       "22  5.282692e-04 -0.000418  0.000240  0.000315 -0.000274  0.000171  0.000107  \n",
       "23  8.019683e-04 -0.000099  0.000333 -0.000024 -0.000592  0.000686  0.000339  \n",
       "24  5.293505e-03  0.002674  0.001781 -0.003306 -0.000855 -0.004270 -0.008155  \n",
       "25  2.792985e-06 -0.000025  0.000006  0.000011 -0.000008  0.000012 -0.000019  \n",
       "26  2.231035e-05 -0.000018  0.000010  0.000014 -0.000012  0.000007  0.000004  \n",
       "27  2.498480e-05 -0.000020  0.000011  0.000015 -0.000013  0.000008  0.000005  \n",
       "28  7.490371e-05 -0.000017  0.000035 -0.000073  0.000051 -0.000015 -0.000024  \n",
       "29  2.755715e-06 -0.000039 -0.000025  0.000059 -0.000026 -0.000091  0.000076  \n",
       "30 -4.065066e-07 -0.000015  0.000003  0.000006 -0.000004  0.000007 -0.000013  \n",
       "31 -8.061527e-03  0.027094  0.050741  0.017014 -0.032460  0.063235 -0.051200  \n",
       "32  2.236081e-03 -0.009529 -0.014873 -0.000473 -0.005570 -0.006145  0.001875  \n",
       "33 -2.220170e-02 -0.005432 -0.009930 -0.001791  0.000990 -0.003316  0.004640  \n",
       "34 -1.717482e-03 -0.001682  0.000733 -0.001501 -0.002648 -0.001159 -0.000995  \n",
       "35 -7.784649e-05  0.000773  0.000292 -0.000196  0.000997  0.001246 -0.000125  \n",
       "36 -5.182307e-03 -0.014177  0.008407  0.010420  0.005572  0.012835  0.005745  \n",
       "37  2.792985e-06 -0.000025  0.000006  0.000011 -0.000008  0.000012 -0.000019  \n",
       "38  2.231035e-05 -0.000018  0.000010  0.000014 -0.000012  0.000007  0.000004  \n",
       "39  2.498480e-05 -0.000020  0.000011  0.000015 -0.000013  0.000008  0.000005  \n",
       "\n",
       "[20 rows x 301 columns]"
      ],
      "text/html": "<div>\n<style scoped>\n    .dataframe tbody tr th:only-of-type {\n        vertical-align: middle;\n    }\n\n    .dataframe tbody tr th {\n        vertical-align: top;\n    }\n\n    .dataframe thead th {\n        text-align: right;\n    }\n</style>\n<table border=\"1\" class=\"dataframe\">\n  <thead>\n    <tr style=\"text-align: right;\">\n      <th></th>\n      <th>Class</th>\n      <th>0</th>\n      <th>1</th>\n      <th>2</th>\n      <th>3</th>\n      <th>4</th>\n      <th>5</th>\n      <th>6</th>\n      <th>7</th>\n      <th>8</th>\n      <th>...</th>\n      <th>290</th>\n      <th>291</th>\n      <th>292</th>\n      <th>293</th>\n      <th>294</th>\n      <th>295</th>\n      <th>296</th>\n      <th>297</th>\n      <th>298</th>\n      <th>299</th>\n    </tr>\n  </thead>\n  <tbody>\n    <tr>\n      <th>20</th>\n      <td>gpe</td>\n      <td>5.032928</td>\n      <td>-1.120715</td>\n      <td>0.375585</td>\n      <td>0.116922</td>\n      <td>0.145641</td>\n      <td>-0.487438</td>\n      <td>-0.001267</td>\n      <td>-0.004255</td>\n      <td>0.001975</td>\n      <td>...</td>\n      <td>-0.000010</td>\n      <td>0.000022</td>\n      <td>0.000018</td>\n      <td>-4.065066e-07</td>\n      <td>-0.000015</td>\n      <td>0.000003</td>\n      <td>0.000006</td>\n      <td>-0.000004</td>\n      <td>0.000007</td>\n      <td>-0.000013</td>\n    </tr>\n    <tr>\n      <th>21</th>\n      <td>gpe</td>\n      <td>5.989315</td>\n      <td>0.056117</td>\n      <td>-0.157471</td>\n      <td>-0.094129</td>\n      <td>-0.125747</td>\n      <td>-0.019278</td>\n      <td>-0.004521</td>\n      <td>-0.022386</td>\n      <td>0.034266</td>\n      <td>...</td>\n      <td>0.000350</td>\n      <td>-0.000840</td>\n      <td>0.000715</td>\n      <td>2.269531e-03</td>\n      <td>-0.001777</td>\n      <td>0.001041</td>\n      <td>0.001311</td>\n      <td>-0.001134</td>\n      <td>0.000690</td>\n      <td>0.000399</td>\n    </tr>\n    <tr>\n      <th>22</th>\n      <td>gpe</td>\n      <td>4.991326</td>\n      <td>0.047065</td>\n      <td>-0.132388</td>\n      <td>-0.079418</td>\n      <td>-0.106476</td>\n      <td>-0.016392</td>\n      <td>-0.003859</td>\n      <td>-0.019125</td>\n      <td>0.029345</td>\n      <td>...</td>\n      <td>0.000086</td>\n      <td>-0.000208</td>\n      <td>0.000184</td>\n      <td>5.282692e-04</td>\n      <td>-0.000418</td>\n      <td>0.000240</td>\n      <td>0.000315</td>\n      <td>-0.000274</td>\n      <td>0.000171</td>\n      <td>0.000107</td>\n    </tr>\n    <tr>\n      <th>23</th>\n      <td>gpe</td>\n      <td>5.030752</td>\n      <td>0.568323</td>\n      <td>0.758935</td>\n      <td>0.168941</td>\n      <td>0.158547</td>\n      <td>0.022137</td>\n      <td>-0.021922</td>\n      <td>0.016067</td>\n      <td>-0.048622</td>\n      <td>...</td>\n      <td>-0.000188</td>\n      <td>-0.000541</td>\n      <td>-0.000508</td>\n      <td>8.019683e-04</td>\n      <td>-0.000099</td>\n      <td>0.000333</td>\n      <td>-0.000024</td>\n      <td>-0.000592</td>\n      <td>0.000686</td>\n      <td>0.000339</td>\n    </tr>\n    <tr>\n      <th>24</th>\n      <td>gpe</td>\n      <td>7.997703</td>\n      <td>0.133758</td>\n      <td>-0.194957</td>\n      <td>-0.166327</td>\n      <td>-0.280392</td>\n      <td>-0.060328</td>\n      <td>0.018610</td>\n      <td>-0.101562</td>\n      <td>0.285300</td>\n      <td>...</td>\n      <td>-0.008051</td>\n      <td>0.006657</td>\n      <td>0.004575</td>\n      <td>5.293505e-03</td>\n      <td>0.002674</td>\n      <td>0.001781</td>\n      <td>-0.003306</td>\n      <td>-0.000855</td>\n      <td>-0.004270</td>\n      <td>-0.008155</td>\n    </tr>\n    <tr>\n      <th>25</th>\n      <td>gpe</td>\n      <td>6.028335</td>\n      <td>-0.904722</td>\n      <td>0.224634</td>\n      <td>0.021182</td>\n      <td>-0.067715</td>\n      <td>0.884588</td>\n      <td>0.006081</td>\n      <td>0.025655</td>\n      <td>-0.028096</td>\n      <td>...</td>\n      <td>-0.000014</td>\n      <td>0.000031</td>\n      <td>0.000028</td>\n      <td>2.792985e-06</td>\n      <td>-0.000025</td>\n      <td>0.000006</td>\n      <td>0.000011</td>\n      <td>-0.000008</td>\n      <td>0.000012</td>\n      <td>-0.000019</td>\n    </tr>\n    <tr>\n      <th>26</th>\n      <td>gpe</td>\n      <td>6.000123</td>\n      <td>0.074781</td>\n      <td>-0.239641</td>\n      <td>-0.181075</td>\n      <td>-0.329846</td>\n      <td>-0.087698</td>\n      <td>-0.062631</td>\n      <td>-0.550162</td>\n      <td>-0.670491</td>\n      <td>...</td>\n      <td>0.000004</td>\n      <td>-0.000009</td>\n      <td>0.000008</td>\n      <td>2.231035e-05</td>\n      <td>-0.000018</td>\n      <td>0.000010</td>\n      <td>0.000014</td>\n      <td>-0.000012</td>\n      <td>0.000007</td>\n      <td>0.000004</td>\n    </tr>\n    <tr>\n      <th>27</th>\n      <td>gpe</td>\n      <td>5.998953</td>\n      <td>0.072186</td>\n      <td>-0.226844</td>\n      <td>-0.164635</td>\n      <td>-0.280608</td>\n      <td>-0.063379</td>\n      <td>-0.026210</td>\n      <td>-0.155031</td>\n      <td>0.548019</td>\n      <td>...</td>\n      <td>0.000004</td>\n      <td>-0.000010</td>\n      <td>0.000009</td>\n      <td>2.498480e-05</td>\n      <td>-0.000020</td>\n      <td>0.000011</td>\n      <td>0.000015</td>\n      <td>-0.000013</td>\n      <td>0.000008</td>\n      <td>0.000005</td>\n    </tr>\n    <tr>\n      <th>28</th>\n      <td>gpe</td>\n      <td>6.012878</td>\n      <td>0.124895</td>\n      <td>-0.685803</td>\n      <td>0.906508</td>\n      <td>0.261858</td>\n      <td>0.018889</td>\n      <td>0.002698</td>\n      <td>0.011721</td>\n      <td>-0.011259</td>\n      <td>...</td>\n      <td>0.000006</td>\n      <td>-0.000002</td>\n      <td>0.000020</td>\n      <td>7.490371e-05</td>\n      <td>-0.000017</td>\n      <td>0.000035</td>\n      <td>-0.000073</td>\n      <td>0.000051</td>\n      <td>-0.000015</td>\n      <td>-0.000024</td>\n    </tr>\n    <tr>\n      <th>29</th>\n      <td>gpe</td>\n      <td>6.008186</td>\n      <td>0.099747</td>\n      <td>-0.404621</td>\n      <td>-0.711291</td>\n      <td>0.869033</td>\n      <td>0.038004</td>\n      <td>0.005342</td>\n      <td>0.023739</td>\n      <td>-0.027885</td>\n      <td>...</td>\n      <td>0.000010</td>\n      <td>-0.000041</td>\n      <td>-0.000010</td>\n      <td>2.755715e-06</td>\n      <td>-0.000039</td>\n      <td>-0.000025</td>\n      <td>0.000059</td>\n      <td>-0.000026</td>\n      <td>-0.000091</td>\n      <td>0.000076</td>\n    </tr>\n    <tr>\n      <th>30</th>\n      <td>per</td>\n      <td>5.032928</td>\n      <td>-1.120715</td>\n      <td>0.375585</td>\n      <td>0.116922</td>\n      <td>0.145641</td>\n      <td>-0.487438</td>\n      <td>-0.001267</td>\n      <td>-0.004255</td>\n      <td>0.001975</td>\n      <td>...</td>\n      <td>-0.000010</td>\n      <td>0.000022</td>\n      <td>0.000018</td>\n      <td>-4.065066e-07</td>\n      <td>-0.000015</td>\n      <td>0.000003</td>\n      <td>0.000006</td>\n      <td>-0.000004</td>\n      <td>0.000007</td>\n      <td>-0.000013</td>\n    </tr>\n    <tr>\n      <th>31</th>\n      <td>per</td>\n      <td>7.001126</td>\n      <td>0.127837</td>\n      <td>-0.174950</td>\n      <td>-0.157143</td>\n      <td>-0.271199</td>\n      <td>-0.059313</td>\n      <td>0.017941</td>\n      <td>-0.100628</td>\n      <td>0.280964</td>\n      <td>...</td>\n      <td>-0.037642</td>\n      <td>0.001758</td>\n      <td>0.022341</td>\n      <td>-8.061527e-03</td>\n      <td>0.027094</td>\n      <td>0.050741</td>\n      <td>0.017014</td>\n      <td>-0.032460</td>\n      <td>0.063235</td>\n      <td>-0.051200</td>\n    </tr>\n    <tr>\n      <th>32</th>\n      <td>per</td>\n      <td>3.999840</td>\n      <td>0.074140</td>\n      <td>-0.084181</td>\n      <td>-0.076430</td>\n      <td>-0.123005</td>\n      <td>-0.023412</td>\n      <td>-0.008935</td>\n      <td>-0.038375</td>\n      <td>0.075469</td>\n      <td>...</td>\n      <td>0.015481</td>\n      <td>0.016989</td>\n      <td>0.008844</td>\n      <td>2.236081e-03</td>\n      <td>-0.009529</td>\n      <td>-0.014873</td>\n      <td>-0.000473</td>\n      <td>-0.005570</td>\n      <td>-0.006145</td>\n      <td>0.001875</td>\n    </tr>\n    <tr>\n      <th>33</th>\n      <td>per</td>\n      <td>9.986998</td>\n      <td>0.111728</td>\n      <td>-0.265114</td>\n      <td>-0.173148</td>\n      <td>-0.246684</td>\n      <td>-0.041562</td>\n      <td>0.004177</td>\n      <td>-0.048153</td>\n      <td>0.090687</td>\n      <td>...</td>\n      <td>0.017931</td>\n      <td>-0.000081</td>\n      <td>0.009993</td>\n      <td>-2.220170e-02</td>\n      <td>-0.005432</td>\n      <td>-0.009930</td>\n      <td>-0.001791</td>\n      <td>0.000990</td>\n      <td>-0.003316</td>\n      <td>0.004640</td>\n    </tr>\n    <tr>\n      <th>34</th>\n      <td>per</td>\n      <td>4.033236</td>\n      <td>0.585164</td>\n      <td>0.844167</td>\n      <td>0.208181</td>\n      <td>0.214594</td>\n      <td>0.032334</td>\n      <td>-0.010042</td>\n      <td>0.037359</td>\n      <td>-0.087074</td>\n      <td>...</td>\n      <td>-0.000899</td>\n      <td>-0.000168</td>\n      <td>0.001688</td>\n      <td>-1.717482e-03</td>\n      <td>-0.001682</td>\n      <td>0.000733</td>\n      <td>-0.001501</td>\n      <td>-0.002648</td>\n      <td>-0.001159</td>\n      <td>-0.000995</td>\n    </tr>\n    <tr>\n      <th>35</th>\n      <td>per</td>\n      <td>4.002002</td>\n      <td>0.062706</td>\n      <td>-0.154021</td>\n      <td>-0.131447</td>\n      <td>-0.264422</td>\n      <td>-0.089293</td>\n      <td>1.242905</td>\n      <td>0.475836</td>\n      <td>-0.214955</td>\n      <td>...</td>\n      <td>-0.000407</td>\n      <td>-0.000102</td>\n      <td>-0.000351</td>\n      <td>-7.784649e-05</td>\n      <td>0.000773</td>\n      <td>0.000292</td>\n      <td>-0.000196</td>\n      <td>0.000997</td>\n      <td>0.001246</td>\n      <td>-0.000125</td>\n    </tr>\n    <tr>\n      <th>36</th>\n      <td>per</td>\n      <td>7.992529</td>\n      <td>0.108977</td>\n      <td>-0.195620</td>\n      <td>-0.142891</td>\n      <td>-0.215504</td>\n      <td>-0.039051</td>\n      <td>-0.008063</td>\n      <td>-0.058871</td>\n      <td>0.120463</td>\n      <td>...</td>\n      <td>0.002357</td>\n      <td>-0.002322</td>\n      <td>-0.002389</td>\n      <td>-5.182307e-03</td>\n      <td>-0.014177</td>\n      <td>0.008407</td>\n      <td>0.010420</td>\n      <td>0.005572</td>\n      <td>0.012835</td>\n      <td>0.005745</td>\n    </tr>\n    <tr>\n      <th>37</th>\n      <td>per</td>\n      <td>6.028335</td>\n      <td>-0.904722</td>\n      <td>0.224634</td>\n      <td>0.021182</td>\n      <td>-0.067715</td>\n      <td>0.884588</td>\n      <td>0.006081</td>\n      <td>0.025655</td>\n      <td>-0.028096</td>\n      <td>...</td>\n      <td>-0.000014</td>\n      <td>0.000031</td>\n      <td>0.000028</td>\n      <td>2.792985e-06</td>\n      <td>-0.000025</td>\n      <td>0.000006</td>\n      <td>0.000011</td>\n      <td>-0.000008</td>\n      <td>0.000012</td>\n      <td>-0.000019</td>\n    </tr>\n    <tr>\n      <th>38</th>\n      <td>per</td>\n      <td>6.000123</td>\n      <td>0.074781</td>\n      <td>-0.239641</td>\n      <td>-0.181075</td>\n      <td>-0.329846</td>\n      <td>-0.087698</td>\n      <td>-0.062631</td>\n      <td>-0.550162</td>\n      <td>-0.670491</td>\n      <td>...</td>\n      <td>0.000004</td>\n      <td>-0.000009</td>\n      <td>0.000008</td>\n      <td>2.231035e-05</td>\n      <td>-0.000018</td>\n      <td>0.000010</td>\n      <td>0.000014</td>\n      <td>-0.000012</td>\n      <td>0.000007</td>\n      <td>0.000004</td>\n    </tr>\n    <tr>\n      <th>39</th>\n      <td>per</td>\n      <td>5.998953</td>\n      <td>0.072186</td>\n      <td>-0.226844</td>\n      <td>-0.164635</td>\n      <td>-0.280608</td>\n      <td>-0.063379</td>\n      <td>-0.026210</td>\n      <td>-0.155031</td>\n      <td>0.548019</td>\n      <td>...</td>\n      <td>0.000004</td>\n      <td>-0.000010</td>\n      <td>0.000009</td>\n      <td>2.498480e-05</td>\n      <td>-0.000020</td>\n      <td>0.000011</td>\n      <td>0.000015</td>\n      <td>-0.000013</td>\n      <td>0.000008</td>\n      <td>0.000005</td>\n    </tr>\n  </tbody>\n</table>\n<p>20 rows × 301 columns</p>\n</div>"
     },
     "metadata": {},
     "execution_count": 7
    }
   ],
   "source": [
    "\n",
    "bigdf = a2.create_table(instances)\n",
    "bigdf[20:40]"
   ]
  },
  {
   "cell_type": "code",
   "execution_count": 8,
   "metadata": {},
   "outputs": [
    {
     "output_type": "execute_result",
     "data": {
      "text/plain": [
       "(array([[ 4.64400000e+04,  5.00072496e+00,  6.37810391e-02, ...,\n",
       "         -9.10247600e-06,  5.72828457e-06,  3.43710639e-06],\n",
       "        [ 1.54240000e+04,  5.00235838e+00,  1.04188375e-01, ...,\n",
       "          5.24504545e-03, -8.17139556e-04,  9.42625285e-03],\n",
       "        [ 6.09850000e+04,  6.02833453e+00, -9.04722127e-01, ...,\n",
       "         -7.68926193e-06,  1.16402199e-05, -1.86611479e-05],\n",
       "        ...,\n",
       "        [ 3.81090000e+04,  5.02801607e+00,  5.12229001e-01, ...,\n",
       "         -2.87417515e-03,  5.47279472e-03,  1.30527443e-02],\n",
       "        [ 9.45700000e+03,  6.99883831e+00,  1.23112031e-01, ...,\n",
       "         -1.64019367e-02,  6.57128783e-03,  2.61758034e-02],\n",
       "        [ 1.08660000e+04,  6.00012289e+00,  7.47810853e-02, ...,\n",
       "         -1.16688887e-05,  7.34321183e-06,  4.40657847e-06]]),\n",
       " 0        org\n",
       " 1        geo\n",
       " 2        tim\n",
       " 3        gpe\n",
       " 4        tim\n",
       "         ... \n",
       " 55343    per\n",
       " 55344    geo\n",
       " 55345    per\n",
       " 55346    tim\n",
       " 55347    tim\n",
       " Name: Class, Length: 55348, dtype: object,\n",
       " array([[ 5.53480000e+04,  4.99524146e+00,  7.03452971e-02, ...,\n",
       "         -1.00417306e-02,  6.13252069e-04,  6.82020316e-03],\n",
       "        [ 5.53490000e+04,  2.99655379e+00,  3.27456892e-02, ...,\n",
       "         -1.44996373e-04,  4.44461618e-05, -1.45206827e-04],\n",
       "        [ 5.53500000e+04,  5.03292759e+00, -1.12071531e+00, ...,\n",
       "         -4.00323608e-06,  7.13442551e-06, -1.30896698e-05],\n",
       "        ...,\n",
       "        [ 6.91820000e+04,  4.99882143e+00,  5.95070064e-02, ...,\n",
       "         -1.13145247e-05,  7.11985494e-06,  4.27372919e-06],\n",
       "        [ 6.91830000e+04,  5.00072496e+00,  6.37810391e-02, ...,\n",
       "         -9.10247600e-06,  5.72828457e-06,  3.43710639e-06],\n",
       "        [ 6.91840000e+04,  5.03292759e+00, -1.12071531e+00, ...,\n",
       "         -4.00323608e-06,  7.13442551e-06, -1.30896698e-05]]),\n",
       " 0        tim\n",
       " 1        tim\n",
       " 2        geo\n",
       " 3        geo\n",
       " 4        geo\n",
       "         ... \n",
       " 13832    tim\n",
       " 13833    tim\n",
       " 13834    tim\n",
       " 13835    tim\n",
       " 13836    tim\n",
       " Name: Class, Length: 13837, dtype: object)"
      ]
     },
     "metadata": {},
     "execution_count": 8
    }
   ],
   "source": [
    "train_X, train_y, test_X, test_y = a2.ttsplit(bigdf)\n",
    "\n",
    "# X and y mean feature matrix and class respectively.\n",
    "train_X, train_y, test_X, test_y"
   ]
  },
  {
   "cell_type": "code",
   "execution_count": 9,
   "metadata": {},
   "outputs": [
    {
     "output_type": "execute_result",
     "data": {
      "text/plain": [
       "0.2"
      ]
     },
     "metadata": {},
     "execution_count": 9
    }
   ],
   "source": [
    "len(test_y) / (len(test_y) + len(train_y))"
   ]
  },
  {
   "cell_type": "code",
   "execution_count": 10,
   "metadata": {},
   "outputs": [
    {
     "output_type": "execute_result",
     "data": {
      "text/plain": [
       "0.2"
      ]
     },
     "metadata": {},
     "execution_count": 10
    }
   ],
   "source": [
    "len(test_X) / (len(test_X) + len(train_X))"
   ]
  },
  {
   "cell_type": "code",
   "execution_count": 11,
   "metadata": {},
   "outputs": [
    {
     "output_type": "execute_result",
     "data": {
      "text/plain": [
       "'tim'"
      ]
     },
     "metadata": {},
     "execution_count": 11
    }
   ],
   "source": [
    "test_y[0]"
   ]
  },
  {
   "cell_type": "markdown",
   "metadata": {},
   "source": [
    "## Part 4 - Training the model (0 points)"
   ]
  },
  {
   "cell_type": "markdown",
   "metadata": {},
   "source": [
    "This part you won't do yourself."
   ]
  },
  {
   "cell_type": "code",
   "execution_count": 12,
   "metadata": {},
   "outputs": [
    {
     "output_type": "stream",
     "name": "stderr",
     "text": [
      "/usr/local/lib64/python3.7/site-packages/sklearn/svm/_base.py:986: ConvergenceWarning: Liblinear failed to converge, increase the number of iterations.\n  \"the number of iterations.\", ConvergenceWarning)\n"
     ]
    }
   ],
   "source": [
    "model = LinearSVC()\n",
    "model.fit(train_X, train_y)\n",
    "train_predictions = model.predict(train_X)\n",
    "test_predictions = model.predict(test_X)"
   ]
  },
  {
   "cell_type": "code",
   "execution_count": 13,
   "metadata": {},
   "outputs": [
    {
     "output_type": "execute_result",
     "data": {
      "text/plain": [
       "array(['org', 'gpe', 'org', ..., 'gpe', 'gpe', 'geo'], dtype=object)"
      ]
     },
     "metadata": {},
     "execution_count": 13
    }
   ],
   "source": [
    "train_predictions"
   ]
  },
  {
   "cell_type": "code",
   "execution_count": 14,
   "metadata": {},
   "outputs": [
    {
     "output_type": "execute_result",
     "data": {
      "text/plain": [
       "0        org\n",
       "1        geo\n",
       "2        tim\n",
       "3        gpe\n",
       "4        tim\n",
       "        ... \n",
       "55343    per\n",
       "55344    geo\n",
       "55345    per\n",
       "55346    tim\n",
       "55347    tim\n",
       "Name: Class, Length: 55348, dtype: object"
      ]
     },
     "metadata": {},
     "execution_count": 14
    }
   ],
   "source": [
    "train_y"
   ]
  },
  {
   "cell_type": "code",
   "execution_count": 15,
   "metadata": {},
   "outputs": [
    {
     "output_type": "execute_result",
     "data": {
      "text/plain": [
       "array(['org', 'gpe', 'gpe', ..., 'org', 'org', 'eve'], dtype=object)"
      ]
     },
     "metadata": {},
     "execution_count": 15
    }
   ],
   "source": [
    "test_predictions"
   ]
  },
  {
   "cell_type": "code",
   "execution_count": 16,
   "metadata": {},
   "outputs": [
    {
     "output_type": "execute_result",
     "data": {
      "text/plain": [
       "0        tim\n",
       "1        tim\n",
       "2        geo\n",
       "3        geo\n",
       "4        geo\n",
       "        ... \n",
       "13832    tim\n",
       "13833    tim\n",
       "13834    tim\n",
       "13835    tim\n",
       "13836    tim\n",
       "Name: Class, Length: 13837, dtype: object"
      ]
     },
     "metadata": {},
     "execution_count": 16
    }
   ],
   "source": [
    "test_y"
   ]
  },
  {
   "cell_type": "markdown",
   "metadata": {},
   "source": [
    "## Part 5 - Evaluation (5 points)"
   ]
  },
  {
   "cell_type": "markdown",
   "metadata": {},
   "source": [
    "Investigate for yourself what a \"confusion matrix\".  Then implement a function that takes the data and produces a confusion matrix in any readable form that allows us to compare the performance of the model by class.  "
   ]
  },
  {
   "source": [
    "a2.confusion_matrix(test_y, test_predictions)"
   ],
   "cell_type": "code",
   "metadata": {},
   "execution_count": 17,
   "outputs": [
    {
     "output_type": "execute_result",
     "data": {
      "text/plain": [
       "     art  eve  geo   gpe  nat   org  per  tim\n",
       "art    0    0    0     7    0    12    0    1\n",
       "eve    0    5    0    16    0    26    0   13\n",
       "geo    0  862    0  1222    0  1811    3  712\n",
       "gpe    0  423    0   547    0   778    0  232\n",
       "nat    0    5    0     6    0     7    0    2\n",
       "org    0  441    0   623    0   887    2  287\n",
       "per    0  600    0   652    0  1099    4  285\n",
       "tim    0  467    0   635    0   842    1  322"
      ],
      "text/html": "<div>\n<style scoped>\n    .dataframe tbody tr th:only-of-type {\n        vertical-align: middle;\n    }\n\n    .dataframe tbody tr th {\n        vertical-align: top;\n    }\n\n    .dataframe thead th {\n        text-align: right;\n    }\n</style>\n<table border=\"1\" class=\"dataframe\">\n  <thead>\n    <tr style=\"text-align: right;\">\n      <th></th>\n      <th>art</th>\n      <th>eve</th>\n      <th>geo</th>\n      <th>gpe</th>\n      <th>nat</th>\n      <th>org</th>\n      <th>per</th>\n      <th>tim</th>\n    </tr>\n  </thead>\n  <tbody>\n    <tr>\n      <th>art</th>\n      <td>0</td>\n      <td>0</td>\n      <td>0</td>\n      <td>7</td>\n      <td>0</td>\n      <td>12</td>\n      <td>0</td>\n      <td>1</td>\n    </tr>\n    <tr>\n      <th>eve</th>\n      <td>0</td>\n      <td>5</td>\n      <td>0</td>\n      <td>16</td>\n      <td>0</td>\n      <td>26</td>\n      <td>0</td>\n      <td>13</td>\n    </tr>\n    <tr>\n      <th>geo</th>\n      <td>0</td>\n      <td>862</td>\n      <td>0</td>\n      <td>1222</td>\n      <td>0</td>\n      <td>1811</td>\n      <td>3</td>\n      <td>712</td>\n    </tr>\n    <tr>\n      <th>gpe</th>\n      <td>0</td>\n      <td>423</td>\n      <td>0</td>\n      <td>547</td>\n      <td>0</td>\n      <td>778</td>\n      <td>0</td>\n      <td>232</td>\n    </tr>\n    <tr>\n      <th>nat</th>\n      <td>0</td>\n      <td>5</td>\n      <td>0</td>\n      <td>6</td>\n      <td>0</td>\n      <td>7</td>\n      <td>0</td>\n      <td>2</td>\n    </tr>\n    <tr>\n      <th>org</th>\n      <td>0</td>\n      <td>441</td>\n      <td>0</td>\n      <td>623</td>\n      <td>0</td>\n      <td>887</td>\n      <td>2</td>\n      <td>287</td>\n    </tr>\n    <tr>\n      <th>per</th>\n      <td>0</td>\n      <td>600</td>\n      <td>0</td>\n      <td>652</td>\n      <td>0</td>\n      <td>1099</td>\n      <td>4</td>\n      <td>285</td>\n    </tr>\n    <tr>\n      <th>tim</th>\n      <td>0</td>\n      <td>467</td>\n      <td>0</td>\n      <td>635</td>\n      <td>0</td>\n      <td>842</td>\n      <td>1</td>\n      <td>322</td>\n    </tr>\n  </tbody>\n</table>\n</div>"
     },
     "metadata": {},
     "execution_count": 17
    }
   ]
  },
  {
   "cell_type": "code",
   "execution_count": 18,
   "metadata": {},
   "outputs": [
    {
     "output_type": "execute_result",
     "data": {
      "text/plain": [
       "     art   eve   geo   gpe  nat   org  per  tim\n",
       "art    0     6   272   117    0    37    9    4\n",
       "eve    0    13   150   116    0    54    4   17\n",
       "geo    0  1218  4956  6406    0  3008  170  883\n",
       "gpe    0   632  3564  3602    0  1505  151  329\n",
       "nat    0     6    81    53    0    19    3    1\n",
       "org    0   660  3096  3880    0  1693  183  322\n",
       "per    0   811  2420  3371    0  1824  116  342\n",
       "tim    0   666  2879  3613    0  1594   90  402"
      ],
      "text/html": "<div>\n<style scoped>\n    .dataframe tbody tr th:only-of-type {\n        vertical-align: middle;\n    }\n\n    .dataframe tbody tr th {\n        vertical-align: top;\n    }\n\n    .dataframe thead th {\n        text-align: right;\n    }\n</style>\n<table border=\"1\" class=\"dataframe\">\n  <thead>\n    <tr style=\"text-align: right;\">\n      <th></th>\n      <th>art</th>\n      <th>eve</th>\n      <th>geo</th>\n      <th>gpe</th>\n      <th>nat</th>\n      <th>org</th>\n      <th>per</th>\n      <th>tim</th>\n    </tr>\n  </thead>\n  <tbody>\n    <tr>\n      <th>art</th>\n      <td>0</td>\n      <td>6</td>\n      <td>272</td>\n      <td>117</td>\n      <td>0</td>\n      <td>37</td>\n      <td>9</td>\n      <td>4</td>\n    </tr>\n    <tr>\n      <th>eve</th>\n      <td>0</td>\n      <td>13</td>\n      <td>150</td>\n      <td>116</td>\n      <td>0</td>\n      <td>54</td>\n      <td>4</td>\n      <td>17</td>\n    </tr>\n    <tr>\n      <th>geo</th>\n      <td>0</td>\n      <td>1218</td>\n      <td>4956</td>\n      <td>6406</td>\n      <td>0</td>\n      <td>3008</td>\n      <td>170</td>\n      <td>883</td>\n    </tr>\n    <tr>\n      <th>gpe</th>\n      <td>0</td>\n      <td>632</td>\n      <td>3564</td>\n      <td>3602</td>\n      <td>0</td>\n      <td>1505</td>\n      <td>151</td>\n      <td>329</td>\n    </tr>\n    <tr>\n      <th>nat</th>\n      <td>0</td>\n      <td>6</td>\n      <td>81</td>\n      <td>53</td>\n      <td>0</td>\n      <td>19</td>\n      <td>3</td>\n      <td>1</td>\n    </tr>\n    <tr>\n      <th>org</th>\n      <td>0</td>\n      <td>660</td>\n      <td>3096</td>\n      <td>3880</td>\n      <td>0</td>\n      <td>1693</td>\n      <td>183</td>\n      <td>322</td>\n    </tr>\n    <tr>\n      <th>per</th>\n      <td>0</td>\n      <td>811</td>\n      <td>2420</td>\n      <td>3371</td>\n      <td>0</td>\n      <td>1824</td>\n      <td>116</td>\n      <td>342</td>\n    </tr>\n    <tr>\n      <th>tim</th>\n      <td>0</td>\n      <td>666</td>\n      <td>2879</td>\n      <td>3613</td>\n      <td>0</td>\n      <td>1594</td>\n      <td>90</td>\n      <td>402</td>\n    </tr>\n  </tbody>\n</table>\n</div>"
     },
     "metadata": {},
     "execution_count": 18
    }
   ],
   "source": [
    "a2.confusion_matrix(train_y, train_predictions)"
   ]
  },
  {
   "cell_type": "markdown",
   "metadata": {},
   "source": [
    "Examine the matrix and describe your observations in README.md.  In particular, what do you notice about the predictions on the training data compared to those on the test data."
   ]
  },
  {
   "cell_type": "markdown",
   "metadata": {},
   "source": [
    "## Bonus Part A - Error analysis (2 points)"
   ]
  },
  {
   "cell_type": "markdown",
   "metadata": {},
   "source": [
    "Look at the weakest-performing classes in the confusion matrix (or any, if they all perform poorly to the same extent).  Find some examples in the test data on which the classifier classified incorrectly for those classes.  What do you think is the reason why those are hard?  Consider linguistic factors and statistical factors, if applicable.  Write your answer in README.md."
   ]
  },
  {
   "cell_type": "markdown",
   "metadata": {},
   "source": [
    "## Bonus Part B - Expanding the feature space (7 points)"
   ]
  },
  {
   "cell_type": "markdown",
   "metadata": {},
   "source": [
    "Run the entire process above, but incorporate part-of-speech tag information into the feature vectors.  It's your choice as to how to do this, but document it in README.md.  Your new process should run from the single call below:"
   ]
  },
  {
   "cell_type": "code",
   "execution_count": 18,
   "metadata": {},
   "outputs": [],
   "source": [
    "a2.bonusb('/scratch/lt2222-v21-resources/GMB_dataset.txt')"
   ]
  }
 ],
 "metadata": {
  "kernelspec": {
   "display_name": "Python 3",
   "language": "python",
   "name": "python3"
  },
  "language_info": {
   "codemirror_mode": {
    "name": "ipython",
    "version": 3
   },
   "file_extension": ".py",
   "mimetype": "text/x-python",
   "name": "python",
   "nbconvert_exporter": "python",
   "pygments_lexer": "ipython3",
   "version": "3.7.4-final"
  }
 },
 "nbformat": 4,
 "nbformat_minor": 2
}