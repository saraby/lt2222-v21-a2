{
 "cells": [
  {
   "cell_type": "markdown",
   "metadata": {},
   "source": [
    "## Introduction\n",
    "\n",
    "In this assignment, you are going to build a classifier for named entities from the Groningen Meaning Bank corpus.  Named entity recognition (NER) takes noun phrases from a text and identifies whether they are persons, organizations, and so on.  You will be using the Groningen Meaning Bank named entity corpus available on mltgpu at `/scratch/lt2222-v21-resources/GMB_dataset.txt`.  In this version of the task, you will assume we know *that* something is a named entity, and instead use multi-class classification to identify its type.  So you will be doing named entity classification but *not* recognition.\n",
    "\n",
    "The data looks like this: \n",
    "\n",
    "```\n",
    "3996    182.0   Nicole  NNP     B-per\n",
    "3997    182.0   Ritchie NNP     I-per\n",
    "3998    182.0   is      VBZ     O\n",
    "3999    182.0   pregnant        JJ      O\n",
    "4000    182.0   .       .       O\n",
    "4001    183.0   Speaking        VBG     O\n",
    "4002    183.0   to      TO      O\n",
    "4003    183.0   ABC     NNP     B-org\n",
    "4004    183.0   News    NNP     I-org\n",
    "4005    183.0   interviewer     NN      O\n",
    "4006    183.0   Dianne  NNP     B-per\n",
    "4007    183.0   Sawyer  NNP     I-per\n",
    "4008    183.0   ,       ,       O\n",
    "4009    183.0   the     DT      O\n",
    "4010    183.0   25-year-old     JJ      O\n",
    "4011    183.0   co-star NN      O\n",
    "4012    183.0   of      IN      O\n",
    "4013    183.0   TV      NN      O\n",
    "4014    183.0   's      POS     O\n",
    "4015    183.0   The     DT      B-art\n",
    "4016    183.0   Simple  NNP     I-art\n",
    "4017    183.0   Life    NNP     I-art\n",
    "4018    183.0   said    VBD     O\n",
    "4019    183.0   she     PRP     O\n",
    "4020    183.0   is      VBZ     O\n",
    "4021    183.0   almost  RB      O\n",
    "4022    183.0   four    CD      O\n",
    "4023    183.0   months  NNS     O\n",
    "4024    183.0   along   IN      O\n",
    "4025    183.0   in      IN      O\n",
    "4026    183.0   her     PRP$    O\n",
    "4027    183.0   pregnancy       NN      O\n",
    "4028    183.0   .       .       O\n",
    "```\n",
    "\n",
    "The first column is the line number.  The second column is a sentence number (for some reason given as a float; ignore it).  The third column is the word.  The fourth column is a part of speech (POS) tag in Penn Treebank format.  The last column contains the named entity annotation. \n",
    "\n",
    "The annotation works like this.  Every `O` just means that the row does not represent a named entity.  `B-xyx` means the first word in a named entity with type `xyx`. `I-xyz` means the second and later words of an `xyz` entity, if there are any.  That means that every time there's a `B` or an `I`, there's a named entity.  \n",
    "\n",
    "The entity types in the corpus are `art`,\n",
    "`eve`,\n",
    "`geo`,\n",
    "`gpe`,\n",
    "`nat`,\n",
    "`org`,\n",
    "`per`,\n",
    "and `tim`\n",
    "\n",
    "Your task is the following.\n",
    "\n",
    "1. To preprocess the text (lowercase and lemmatize; punctuation can be preserved as it gets its own rows).\n",
    "\n",
    "2. To create instances from every from every identified named entity in the text with the type of the NE as the class, and a surrounding context of five words on either side as the features.  \n",
    "\n",
    "3. To generate vectors and split the instances into training and testing datasets at random.\n",
    "\n",
    "4. To train a support vector machine (via `sklearn.svm.LinearSVC`) for classifying the NERs.\n",
    "\n",
    "5. To evaluate the performance of the classifier.\n",
    "\n",
    "\n",
    "You will do this by modifying a separate file containing functions that will be called from this notebook as a module.  You can modify this notebook for testing purposes but please only submit the original.  You will document everything in Markdown in README.md and submit a GitHub repository URL.\n",
    "\n",
    "This assignment is due on **Tuesday, 2021 March 9 at 23:59**.  It has **25 points** and **7 bonus points**."
   ]
  },
  {
   "cell_type": "code",
   "execution_count": 1,
   "metadata": {},
   "outputs": [
    {
     "output_type": "stream",
     "name": "stderr",
     "text": [
      "[nltk_data] Downloading package wordnet to\n[nltk_data]     /home/gussarayo@GU.GU.SE/nltk_data...\n[nltk_data]   Package wordnet is already up-to-date!\n"
     ]
    }
   ],
   "source": [
    "import a2\n",
    "from sklearn.svm import LinearSVC\n",
    "\n"
   ]
  },
  {
   "cell_type": "code",
   "execution_count": 2,
   "metadata": {},
   "outputs": [],
   "source": [
    "gmbfile = open('/scratch/lt2222-v21-resources/GMB_dataset.txt', \"r\")"
   ]
  },
  {
   "cell_type": "markdown",
   "metadata": {},
   "source": [
    "## Part 1 - preprocessing (3 points)"
   ]
  },
  {
   "cell_type": "markdown",
   "metadata": {},
   "source": [
    "See step 1 above.  The data is coming to you as an unused file handle object.  You can return the data in any indexable form you like.  You can also choose to remove infrequent or uninformative words to reduce the size of the feature space. (Document this in README.md.)"
   ]
  },
  {
   "cell_type": "code",
   "execution_count": 3,
   "metadata": {},
   "outputs": [
    {
     "output_type": "execute_result",
     "data": {
      "text/plain": [
       "    Line_No  Sentence_No       Word  POS NER\n",
       "20       20            1       from   IN   O\n",
       "21       21            1       that   DT   O\n",
       "22       22            1    country   NN   O\n",
       "23       24            2     family  NNS   O\n",
       "24       25            2         of   IN   O\n",
       "25       26            2    soldier  NNS   O\n",
       "26       27            2       kill  VBN   O\n",
       "27       28            2         in   IN   O\n",
       "28       29            2        the   DT   O\n",
       "29       30            2   conflict   NN   O\n",
       "30       31            2       join  VBD   O\n",
       "31       32            2        the   DT   O\n",
       "32       33            2  protester  NNS   O\n",
       "33       34            2        who   WP   O\n",
       "34       35            2      carry  VBD   O\n",
       "35       36            2     banner  NNS   O\n",
       "36       37            2       with   IN   O\n",
       "37       38            2       such   JJ   O\n",
       "38       39            2     slogan  NNS   O\n",
       "39       40            2          a   IN   O"
      ],
      "text/html": "<div>\n<style scoped>\n    .dataframe tbody tr th:only-of-type {\n        vertical-align: middle;\n    }\n\n    .dataframe tbody tr th {\n        vertical-align: top;\n    }\n\n    .dataframe thead th {\n        text-align: right;\n    }\n</style>\n<table border=\"1\" class=\"dataframe\">\n  <thead>\n    <tr style=\"text-align: right;\">\n      <th></th>\n      <th>Line_No</th>\n      <th>Sentence_No</th>\n      <th>Word</th>\n      <th>POS</th>\n      <th>NER</th>\n    </tr>\n  </thead>\n  <tbody>\n    <tr>\n      <th>20</th>\n      <td>20</td>\n      <td>1</td>\n      <td>from</td>\n      <td>IN</td>\n      <td>O</td>\n    </tr>\n    <tr>\n      <th>21</th>\n      <td>21</td>\n      <td>1</td>\n      <td>that</td>\n      <td>DT</td>\n      <td>O</td>\n    </tr>\n    <tr>\n      <th>22</th>\n      <td>22</td>\n      <td>1</td>\n      <td>country</td>\n      <td>NN</td>\n      <td>O</td>\n    </tr>\n    <tr>\n      <th>23</th>\n      <td>24</td>\n      <td>2</td>\n      <td>family</td>\n      <td>NNS</td>\n      <td>O</td>\n    </tr>\n    <tr>\n      <th>24</th>\n      <td>25</td>\n      <td>2</td>\n      <td>of</td>\n      <td>IN</td>\n      <td>O</td>\n    </tr>\n    <tr>\n      <th>25</th>\n      <td>26</td>\n      <td>2</td>\n      <td>soldier</td>\n      <td>NNS</td>\n      <td>O</td>\n    </tr>\n    <tr>\n      <th>26</th>\n      <td>27</td>\n      <td>2</td>\n      <td>kill</td>\n      <td>VBN</td>\n      <td>O</td>\n    </tr>\n    <tr>\n      <th>27</th>\n      <td>28</td>\n      <td>2</td>\n      <td>in</td>\n      <td>IN</td>\n      <td>O</td>\n    </tr>\n    <tr>\n      <th>28</th>\n      <td>29</td>\n      <td>2</td>\n      <td>the</td>\n      <td>DT</td>\n      <td>O</td>\n    </tr>\n    <tr>\n      <th>29</th>\n      <td>30</td>\n      <td>2</td>\n      <td>conflict</td>\n      <td>NN</td>\n      <td>O</td>\n    </tr>\n    <tr>\n      <th>30</th>\n      <td>31</td>\n      <td>2</td>\n      <td>join</td>\n      <td>VBD</td>\n      <td>O</td>\n    </tr>\n    <tr>\n      <th>31</th>\n      <td>32</td>\n      <td>2</td>\n      <td>the</td>\n      <td>DT</td>\n      <td>O</td>\n    </tr>\n    <tr>\n      <th>32</th>\n      <td>33</td>\n      <td>2</td>\n      <td>protester</td>\n      <td>NNS</td>\n      <td>O</td>\n    </tr>\n    <tr>\n      <th>33</th>\n      <td>34</td>\n      <td>2</td>\n      <td>who</td>\n      <td>WP</td>\n      <td>O</td>\n    </tr>\n    <tr>\n      <th>34</th>\n      <td>35</td>\n      <td>2</td>\n      <td>carry</td>\n      <td>VBD</td>\n      <td>O</td>\n    </tr>\n    <tr>\n      <th>35</th>\n      <td>36</td>\n      <td>2</td>\n      <td>banner</td>\n      <td>NNS</td>\n      <td>O</td>\n    </tr>\n    <tr>\n      <th>36</th>\n      <td>37</td>\n      <td>2</td>\n      <td>with</td>\n      <td>IN</td>\n      <td>O</td>\n    </tr>\n    <tr>\n      <th>37</th>\n      <td>38</td>\n      <td>2</td>\n      <td>such</td>\n      <td>JJ</td>\n      <td>O</td>\n    </tr>\n    <tr>\n      <th>38</th>\n      <td>39</td>\n      <td>2</td>\n      <td>slogan</td>\n      <td>NNS</td>\n      <td>O</td>\n    </tr>\n    <tr>\n      <th>39</th>\n      <td>40</td>\n      <td>2</td>\n      <td>a</td>\n      <td>IN</td>\n      <td>O</td>\n    </tr>\n  </tbody>\n</table>\n</div>"
     },
     "metadata": {},
     "execution_count": 3
    }
   ],
   "source": [
    "\n",
    "inputdata = a2.preprocess(gmbfile)\n",
    "gmbfile.close()\n",
    "inputdata[20:40]"
   ]
  },
  {
   "cell_type": "markdown",
   "metadata": {},
   "source": [
    "## Part 2 - Creating instances (7 points)"
   ]
  },
  {
   "cell_type": "markdown",
   "metadata": {},
   "source": [
    "Do step 2 above.  You will create a collection of Instance objects.  Remember to consider the case where the NE is at the beginning of a sentence or at the end, or close to either (you can create a special start token for that).  You can also start counting from before the `B` end of the NE mention and after the last `I` of the NE mention. That means that the instances should include things before and after the named entity mention, but not the named entity text itself."
   ]
  },
  {
   "cell_type": "code",
   "execution_count": 4,
   "metadata": {
    "tags": []
   },
   "outputs": [],
   "source": [
    "\n",
    "instances = a2.create_instances(inputdata)"
   ]
  },
  {
   "cell_type": "code",
   "execution_count": 5,
   "metadata": {},
   "outputs": [
    {
     "output_type": "execute_result",
     "data": {
      "text/plain": [
       "[Class: gpe Features: ['<S5>', 'this', 'week', 'restart', 'part', 'the', 'conversion', 'process', 'at', '</S5>'],\n",
       " Class: geo Features: ['<S1>', '<S2>', '<S3>', '<S4>', '<S5>', '</S5>', '</S4>', '</S3>', '</S2>', '</S1>'],\n",
       " Class: gpe Features: ['<S5>', 'official', 'say', 'they', 'expect', 'get', 'access', 'to', 'sealed', 'sensitive'],\n",
       " Class: tim Features: ['<S2>', '<S3>', '<S4>', '<S5>', 'surveillance', 'begin', 'function', '</S5>', '</S4>', '</S3>'],\n",
       " Class: org Features: ['<S5>', 'surveillance', 'system', 'begin', 'function', '</S5>', '</S4>', '</S3>', '</S2>', '</S1>'],\n",
       " Class: org Features: ['<S2>', '<S3>', '<S4>', '<S5>', 'backing', 'threaten', 'to', 'refer', '</S5>', '</S4>'],\n",
       " Class: gpe Features: ['<S5>', 'backing', 'have', 'threaten', 'to', '</S5>', '</S4>', '</S3>', '</S2>', '</S1>'],\n",
       " Class: gpe Features: ['<S1>', '<S2>', '<S3>', '<S4>', '<S5>', 'which', 'could', 'impose', 'sanction', 'if'],\n",
       " Class: org Features: ['<S3>', '<S4>', '<S5>', 'which', 'could', 'sanction', 'if', 'it', 'find', '</S5>'],\n",
       " Class: gpe Features: ['<S1>', '<S2>', '<S3>', '<S4>', '<S5>', 'treaty', '</S5>', '</S4>', '</S3>', '</S2>'],\n",
       " Class: art Features: ['<S1>', '<S2>', '<S3>', '<S4>', '<S5>', '</S5>', '</S4>', '</S3>', '</S2>', '</S1>'],\n",
       " Class: gpe Features: ['<S1>', '<S2>', '<S3>', '<S4>', '<S5>', 'say', '</S5>', '</S4>', '</S3>', '</S2>'],\n",
       " Class: per Features: ['<S1>', '<S2>', '<S3>', '<S4>', '<S5>', '</S5>', '</S4>', '</S3>', '</S2>', '</S1>'],\n",
       " Class: tim Features: ['<S3>', '<S4>', '<S5>', 'incentive', 'aim', 'persuade', '</S5>', '</S4>', '</S3>', '</S2>'],\n",
       " Class: gpe Features: ['<S5>', 'incentive', 'aim', 'at', 'persuade', 'to', 'end', 'nuclear', 'fuel', 'program'],\n",
       " Class: gpe Features: ['<S5>', 'to', 'end', 'nuclear', 'fuel', 'be', 'an', 'insult', 'to', 'the'],\n",
       " Class: gpe Features: ['<S1>', '<S2>', '<S3>', '<S4>', '<S5>', '</S5>', '</S4>', '</S3>', '</S2>', '</S1>'],\n",
       " Class: gpe Features: ['<S2>', '<S3>', '<S4>', '<S5>', 'oil', 'be', 'kidnap', 'by', 'armed', 'militant'],\n",
       " Class: gpe Features: ['<S5>', 'oil', 'worker', 'be', 'kidnap', 'armed', 'militant', 'during', 'a', 'raid'],\n",
       " Class: geo Features: ['<S1>', '<S2>', '<S3>', '<S4>', '<S5>', '</S5>', '</S4>', '</S3>', '</S2>', '</S1>']]"
      ]
     },
     "metadata": {},
     "execution_count": 5
    }
   ],
   "source": [
    "instances[20:40]"
   ]
  },
  {
   "cell_type": "markdown",
   "metadata": {},
   "source": [
    "## Part 3 - Creating the table and splitting (10 points)\n",
    "\n",
    "Here you're going to write the functions that create a data table with \"document\" vectors representing each instance and split the table into training and testing sets and random with an 80%/20% train/test split."
   ]
  },
  {
   "cell_type": "code",
   "execution_count": 6,
   "metadata": {},
   "outputs": [
    {
     "output_type": "execute_result",
     "data": {
      "text/plain": [
       "   Class         0         1         2         3         4         5  \\\n",
       "20   gpe  5.032928 -1.120715  0.375585  0.116922  0.145641 -0.487438   \n",
       "21   gpe  5.989315  0.056117 -0.157471 -0.094129 -0.125747 -0.019278   \n",
       "22   gpe  4.991326  0.047065 -0.132388 -0.079418 -0.106476 -0.016392   \n",
       "23   gpe  5.030752  0.568323  0.758935  0.168941  0.158547  0.022137   \n",
       "24   gpe  7.997703  0.133758 -0.194957 -0.166327 -0.280392 -0.060328   \n",
       "25   gpe  6.028335 -0.904722  0.224634  0.021182 -0.067715  0.884588   \n",
       "26   gpe  6.000123  0.074781 -0.239641 -0.181075 -0.329846 -0.087698   \n",
       "27   gpe  5.998953  0.072186 -0.226844 -0.164635 -0.280608 -0.063379   \n",
       "28   gpe  6.012878  0.124895 -0.685803  0.906508  0.261858  0.018889   \n",
       "29   gpe  6.008186  0.099747 -0.404621 -0.711291  0.869033  0.038004   \n",
       "30   per  5.032928 -1.120715  0.375585  0.116922  0.145641 -0.487438   \n",
       "31   per  7.001126  0.127837 -0.174950 -0.157143 -0.271199 -0.059313   \n",
       "32   per  3.999840  0.074140 -0.084181 -0.076430 -0.123005 -0.023412   \n",
       "33   per  9.986998  0.111728 -0.265114 -0.173148 -0.246684 -0.041562   \n",
       "34   per  4.033236  0.585164  0.844167  0.208181  0.214594  0.032334   \n",
       "35   per  4.002002  0.062706 -0.154021 -0.131447 -0.264422 -0.089293   \n",
       "36   per  7.992529  0.108977 -0.195620 -0.142891 -0.215504 -0.039051   \n",
       "37   per  6.028335 -0.904722  0.224634  0.021182 -0.067715  0.884588   \n",
       "38   per  6.000123  0.074781 -0.239641 -0.181075 -0.329846 -0.087698   \n",
       "39   per  5.998953  0.072186 -0.226844 -0.164635 -0.280608 -0.063379   \n",
       "\n",
       "           6         7         8  ...       290           291           292  \\\n",
       "20 -0.001267 -0.004255  0.001975  ... -0.000006  9.855534e-07 -1.341620e-06   \n",
       "21 -0.004521 -0.022386  0.034266  ... -0.001249 -1.538678e-03  1.329189e-03   \n",
       "22 -0.003859 -0.019125  0.029345  ... -0.000276 -3.582937e-04  3.072175e-04   \n",
       "23 -0.021922  0.016067 -0.048622  ... -0.000396 -1.200539e-04  1.742763e-04   \n",
       "24  0.018610 -0.101562  0.285300  ... -0.002300 -2.645838e-03  6.293904e-04   \n",
       "25  0.006081  0.025655 -0.028096  ... -0.000011 -8.508483e-07  5.114984e-09   \n",
       "26 -0.062631 -0.550162 -0.670491  ... -0.000011 -1.518608e-05  1.311504e-05   \n",
       "27 -0.026210 -0.155031  0.548019  ... -0.000013 -1.700625e-05  1.468650e-05   \n",
       "28  0.002698  0.011721 -0.011259  ...  0.000010  6.345566e-05 -1.186579e-05   \n",
       "29  0.005342  0.023739 -0.027885  ... -0.000017 -5.538719e-05  2.865854e-05   \n",
       "30 -0.001267 -0.004255  0.001975  ... -0.000006  9.855534e-07 -1.341620e-06   \n",
       "31  0.017941 -0.100628  0.280964  ...  0.016117  5.199750e-02  7.807792e-02   \n",
       "32 -0.008935 -0.038375  0.075469  ... -0.014844 -2.388283e-03  3.690707e-04   \n",
       "33  0.004177 -0.048153  0.090687  ... -0.000762  5.298589e-03  1.474332e-02   \n",
       "34 -0.010042  0.037359 -0.087074  ...  0.000629  5.779327e-04  4.156145e-04   \n",
       "35  1.242905  0.475836 -0.214955  ... -0.000166 -3.618555e-04 -1.853377e-04   \n",
       "36 -0.008063 -0.058871  0.120463  ...  0.002021 -9.120227e-03  2.982107e-03   \n",
       "37  0.006081  0.025655 -0.028096  ... -0.000011 -8.508483e-07  5.114984e-09   \n",
       "38 -0.062631 -0.550162 -0.670491  ... -0.000011 -1.518608e-05  1.311504e-05   \n",
       "39 -0.026210 -0.155031  0.548019  ... -0.000013 -1.700625e-05  1.468650e-05   \n",
       "\n",
       "         293       294       295       296       297           298       299  \n",
       "20  0.000004  0.000011 -0.000015 -0.000021 -0.000005 -1.300866e-05 -0.000002  \n",
       "21  0.000881  0.000806  0.000655 -0.003194  0.001694  6.858206e-05 -0.000749  \n",
       "22  0.000203  0.000207  0.000150 -0.000743  0.000400  2.448824e-05 -0.000176  \n",
       "23  0.000205 -0.000208 -0.000198 -0.000321  0.000163 -1.514129e-04  0.000739  \n",
       "24 -0.004339 -0.003516  0.004062  0.008540 -0.009203  5.750378e-03 -0.001111  \n",
       "25  0.000008  0.000018 -0.000021 -0.000036 -0.000005 -1.908247e-05 -0.000004  \n",
       "26  0.000009  0.000009  0.000006 -0.000031  0.000017  9.115533e-07 -0.000008  \n",
       "27  0.000010  0.000010  0.000007 -0.000035  0.000019  1.021444e-06 -0.000008  \n",
       "28 -0.000011  0.000008 -0.000027 -0.000106 -0.000025  7.237054e-05 -0.000110  \n",
       "29 -0.000055 -0.000061  0.000097  0.000013  0.000084 -2.720647e-05  0.000018  \n",
       "30  0.000004  0.000011 -0.000015 -0.000021 -0.000005 -1.300866e-05 -0.000002  \n",
       "31 -0.022911 -0.016536 -0.034091  0.018528 -0.101925 -3.600469e-02  0.013134  \n",
       "32 -0.005523  0.005409  0.011635 -0.005172 -0.026087  1.201885e-02 -0.015314  \n",
       "33 -0.001778  0.010539  0.013321 -0.015757  0.003654 -5.628544e-03 -0.000730  \n",
       "34 -0.001056  0.000693  0.000004 -0.000626  0.000281  1.979851e-03 -0.001923  \n",
       "35  0.000071 -0.000164  0.000876 -0.000838  0.000803 -8.684103e-04 -0.000726  \n",
       "36 -0.011520 -0.006776  0.004820 -0.014172  0.002584 -1.039435e-03  0.033846  \n",
       "37  0.000008  0.000018 -0.000021 -0.000036 -0.000005 -1.908247e-05 -0.000004  \n",
       "38  0.000009  0.000009  0.000006 -0.000031  0.000017  9.115533e-07 -0.000008  \n",
       "39  0.000010  0.000010  0.000007 -0.000035  0.000019  1.021444e-06 -0.000008  \n",
       "\n",
       "[20 rows x 301 columns]"
      ],
      "text/html": "<div>\n<style scoped>\n    .dataframe tbody tr th:only-of-type {\n        vertical-align: middle;\n    }\n\n    .dataframe tbody tr th {\n        vertical-align: top;\n    }\n\n    .dataframe thead th {\n        text-align: right;\n    }\n</style>\n<table border=\"1\" class=\"dataframe\">\n  <thead>\n    <tr style=\"text-align: right;\">\n      <th></th>\n      <th>Class</th>\n      <th>0</th>\n      <th>1</th>\n      <th>2</th>\n      <th>3</th>\n      <th>4</th>\n      <th>5</th>\n      <th>6</th>\n      <th>7</th>\n      <th>8</th>\n      <th>...</th>\n      <th>290</th>\n      <th>291</th>\n      <th>292</th>\n      <th>293</th>\n      <th>294</th>\n      <th>295</th>\n      <th>296</th>\n      <th>297</th>\n      <th>298</th>\n      <th>299</th>\n    </tr>\n  </thead>\n  <tbody>\n    <tr>\n      <th>20</th>\n      <td>gpe</td>\n      <td>5.032928</td>\n      <td>-1.120715</td>\n      <td>0.375585</td>\n      <td>0.116922</td>\n      <td>0.145641</td>\n      <td>-0.487438</td>\n      <td>-0.001267</td>\n      <td>-0.004255</td>\n      <td>0.001975</td>\n      <td>...</td>\n      <td>-0.000006</td>\n      <td>9.855534e-07</td>\n      <td>-1.341620e-06</td>\n      <td>0.000004</td>\n      <td>0.000011</td>\n      <td>-0.000015</td>\n      <td>-0.000021</td>\n      <td>-0.000005</td>\n      <td>-1.300866e-05</td>\n      <td>-0.000002</td>\n    </tr>\n    <tr>\n      <th>21</th>\n      <td>gpe</td>\n      <td>5.989315</td>\n      <td>0.056117</td>\n      <td>-0.157471</td>\n      <td>-0.094129</td>\n      <td>-0.125747</td>\n      <td>-0.019278</td>\n      <td>-0.004521</td>\n      <td>-0.022386</td>\n      <td>0.034266</td>\n      <td>...</td>\n      <td>-0.001249</td>\n      <td>-1.538678e-03</td>\n      <td>1.329189e-03</td>\n      <td>0.000881</td>\n      <td>0.000806</td>\n      <td>0.000655</td>\n      <td>-0.003194</td>\n      <td>0.001694</td>\n      <td>6.858206e-05</td>\n      <td>-0.000749</td>\n    </tr>\n    <tr>\n      <th>22</th>\n      <td>gpe</td>\n      <td>4.991326</td>\n      <td>0.047065</td>\n      <td>-0.132388</td>\n      <td>-0.079418</td>\n      <td>-0.106476</td>\n      <td>-0.016392</td>\n      <td>-0.003859</td>\n      <td>-0.019125</td>\n      <td>0.029345</td>\n      <td>...</td>\n      <td>-0.000276</td>\n      <td>-3.582937e-04</td>\n      <td>3.072175e-04</td>\n      <td>0.000203</td>\n      <td>0.000207</td>\n      <td>0.000150</td>\n      <td>-0.000743</td>\n      <td>0.000400</td>\n      <td>2.448824e-05</td>\n      <td>-0.000176</td>\n    </tr>\n    <tr>\n      <th>23</th>\n      <td>gpe</td>\n      <td>5.030752</td>\n      <td>0.568323</td>\n      <td>0.758935</td>\n      <td>0.168941</td>\n      <td>0.158547</td>\n      <td>0.022137</td>\n      <td>-0.021922</td>\n      <td>0.016067</td>\n      <td>-0.048622</td>\n      <td>...</td>\n      <td>-0.000396</td>\n      <td>-1.200539e-04</td>\n      <td>1.742763e-04</td>\n      <td>0.000205</td>\n      <td>-0.000208</td>\n      <td>-0.000198</td>\n      <td>-0.000321</td>\n      <td>0.000163</td>\n      <td>-1.514129e-04</td>\n      <td>0.000739</td>\n    </tr>\n    <tr>\n      <th>24</th>\n      <td>gpe</td>\n      <td>7.997703</td>\n      <td>0.133758</td>\n      <td>-0.194957</td>\n      <td>-0.166327</td>\n      <td>-0.280392</td>\n      <td>-0.060328</td>\n      <td>0.018610</td>\n      <td>-0.101562</td>\n      <td>0.285300</td>\n      <td>...</td>\n      <td>-0.002300</td>\n      <td>-2.645838e-03</td>\n      <td>6.293904e-04</td>\n      <td>-0.004339</td>\n      <td>-0.003516</td>\n      <td>0.004062</td>\n      <td>0.008540</td>\n      <td>-0.009203</td>\n      <td>5.750378e-03</td>\n      <td>-0.001111</td>\n    </tr>\n    <tr>\n      <th>25</th>\n      <td>gpe</td>\n      <td>6.028335</td>\n      <td>-0.904722</td>\n      <td>0.224634</td>\n      <td>0.021182</td>\n      <td>-0.067715</td>\n      <td>0.884588</td>\n      <td>0.006081</td>\n      <td>0.025655</td>\n      <td>-0.028096</td>\n      <td>...</td>\n      <td>-0.000011</td>\n      <td>-8.508483e-07</td>\n      <td>5.114984e-09</td>\n      <td>0.000008</td>\n      <td>0.000018</td>\n      <td>-0.000021</td>\n      <td>-0.000036</td>\n      <td>-0.000005</td>\n      <td>-1.908247e-05</td>\n      <td>-0.000004</td>\n    </tr>\n    <tr>\n      <th>26</th>\n      <td>gpe</td>\n      <td>6.000123</td>\n      <td>0.074781</td>\n      <td>-0.239641</td>\n      <td>-0.181075</td>\n      <td>-0.329846</td>\n      <td>-0.087698</td>\n      <td>-0.062631</td>\n      <td>-0.550162</td>\n      <td>-0.670491</td>\n      <td>...</td>\n      <td>-0.000011</td>\n      <td>-1.518608e-05</td>\n      <td>1.311504e-05</td>\n      <td>0.000009</td>\n      <td>0.000009</td>\n      <td>0.000006</td>\n      <td>-0.000031</td>\n      <td>0.000017</td>\n      <td>9.115533e-07</td>\n      <td>-0.000008</td>\n    </tr>\n    <tr>\n      <th>27</th>\n      <td>gpe</td>\n      <td>5.998953</td>\n      <td>0.072186</td>\n      <td>-0.226844</td>\n      <td>-0.164635</td>\n      <td>-0.280608</td>\n      <td>-0.063379</td>\n      <td>-0.026210</td>\n      <td>-0.155031</td>\n      <td>0.548019</td>\n      <td>...</td>\n      <td>-0.000013</td>\n      <td>-1.700625e-05</td>\n      <td>1.468650e-05</td>\n      <td>0.000010</td>\n      <td>0.000010</td>\n      <td>0.000007</td>\n      <td>-0.000035</td>\n      <td>0.000019</td>\n      <td>1.021444e-06</td>\n      <td>-0.000008</td>\n    </tr>\n    <tr>\n      <th>28</th>\n      <td>gpe</td>\n      <td>6.012878</td>\n      <td>0.124895</td>\n      <td>-0.685803</td>\n      <td>0.906508</td>\n      <td>0.261858</td>\n      <td>0.018889</td>\n      <td>0.002698</td>\n      <td>0.011721</td>\n      <td>-0.011259</td>\n      <td>...</td>\n      <td>0.000010</td>\n      <td>6.345566e-05</td>\n      <td>-1.186579e-05</td>\n      <td>-0.000011</td>\n      <td>0.000008</td>\n      <td>-0.000027</td>\n      <td>-0.000106</td>\n      <td>-0.000025</td>\n      <td>7.237054e-05</td>\n      <td>-0.000110</td>\n    </tr>\n    <tr>\n      <th>29</th>\n      <td>gpe</td>\n      <td>6.008186</td>\n      <td>0.099747</td>\n      <td>-0.404621</td>\n      <td>-0.711291</td>\n      <td>0.869033</td>\n      <td>0.038004</td>\n      <td>0.005342</td>\n      <td>0.023739</td>\n      <td>-0.027885</td>\n      <td>...</td>\n      <td>-0.000017</td>\n      <td>-5.538719e-05</td>\n      <td>2.865854e-05</td>\n      <td>-0.000055</td>\n      <td>-0.000061</td>\n      <td>0.000097</td>\n      <td>0.000013</td>\n      <td>0.000084</td>\n      <td>-2.720647e-05</td>\n      <td>0.000018</td>\n    </tr>\n    <tr>\n      <th>30</th>\n      <td>per</td>\n      <td>5.032928</td>\n      <td>-1.120715</td>\n      <td>0.375585</td>\n      <td>0.116922</td>\n      <td>0.145641</td>\n      <td>-0.487438</td>\n      <td>-0.001267</td>\n      <td>-0.004255</td>\n      <td>0.001975</td>\n      <td>...</td>\n      <td>-0.000006</td>\n      <td>9.855534e-07</td>\n      <td>-1.341620e-06</td>\n      <td>0.000004</td>\n      <td>0.000011</td>\n      <td>-0.000015</td>\n      <td>-0.000021</td>\n      <td>-0.000005</td>\n      <td>-1.300866e-05</td>\n      <td>-0.000002</td>\n    </tr>\n    <tr>\n      <th>31</th>\n      <td>per</td>\n      <td>7.001126</td>\n      <td>0.127837</td>\n      <td>-0.174950</td>\n      <td>-0.157143</td>\n      <td>-0.271199</td>\n      <td>-0.059313</td>\n      <td>0.017941</td>\n      <td>-0.100628</td>\n      <td>0.280964</td>\n      <td>...</td>\n      <td>0.016117</td>\n      <td>5.199750e-02</td>\n      <td>7.807792e-02</td>\n      <td>-0.022911</td>\n      <td>-0.016536</td>\n      <td>-0.034091</td>\n      <td>0.018528</td>\n      <td>-0.101925</td>\n      <td>-3.600469e-02</td>\n      <td>0.013134</td>\n    </tr>\n    <tr>\n      <th>32</th>\n      <td>per</td>\n      <td>3.999840</td>\n      <td>0.074140</td>\n      <td>-0.084181</td>\n      <td>-0.076430</td>\n      <td>-0.123005</td>\n      <td>-0.023412</td>\n      <td>-0.008935</td>\n      <td>-0.038375</td>\n      <td>0.075469</td>\n      <td>...</td>\n      <td>-0.014844</td>\n      <td>-2.388283e-03</td>\n      <td>3.690707e-04</td>\n      <td>-0.005523</td>\n      <td>0.005409</td>\n      <td>0.011635</td>\n      <td>-0.005172</td>\n      <td>-0.026087</td>\n      <td>1.201885e-02</td>\n      <td>-0.015314</td>\n    </tr>\n    <tr>\n      <th>33</th>\n      <td>per</td>\n      <td>9.986998</td>\n      <td>0.111728</td>\n      <td>-0.265114</td>\n      <td>-0.173148</td>\n      <td>-0.246684</td>\n      <td>-0.041562</td>\n      <td>0.004177</td>\n      <td>-0.048153</td>\n      <td>0.090687</td>\n      <td>...</td>\n      <td>-0.000762</td>\n      <td>5.298589e-03</td>\n      <td>1.474332e-02</td>\n      <td>-0.001778</td>\n      <td>0.010539</td>\n      <td>0.013321</td>\n      <td>-0.015757</td>\n      <td>0.003654</td>\n      <td>-5.628544e-03</td>\n      <td>-0.000730</td>\n    </tr>\n    <tr>\n      <th>34</th>\n      <td>per</td>\n      <td>4.033236</td>\n      <td>0.585164</td>\n      <td>0.844167</td>\n      <td>0.208181</td>\n      <td>0.214594</td>\n      <td>0.032334</td>\n      <td>-0.010042</td>\n      <td>0.037359</td>\n      <td>-0.087074</td>\n      <td>...</td>\n      <td>0.000629</td>\n      <td>5.779327e-04</td>\n      <td>4.156145e-04</td>\n      <td>-0.001056</td>\n      <td>0.000693</td>\n      <td>0.000004</td>\n      <td>-0.000626</td>\n      <td>0.000281</td>\n      <td>1.979851e-03</td>\n      <td>-0.001923</td>\n    </tr>\n    <tr>\n      <th>35</th>\n      <td>per</td>\n      <td>4.002002</td>\n      <td>0.062706</td>\n      <td>-0.154021</td>\n      <td>-0.131447</td>\n      <td>-0.264422</td>\n      <td>-0.089293</td>\n      <td>1.242905</td>\n      <td>0.475836</td>\n      <td>-0.214955</td>\n      <td>...</td>\n      <td>-0.000166</td>\n      <td>-3.618555e-04</td>\n      <td>-1.853377e-04</td>\n      <td>0.000071</td>\n      <td>-0.000164</td>\n      <td>0.000876</td>\n      <td>-0.000838</td>\n      <td>0.000803</td>\n      <td>-8.684103e-04</td>\n      <td>-0.000726</td>\n    </tr>\n    <tr>\n      <th>36</th>\n      <td>per</td>\n      <td>7.992529</td>\n      <td>0.108977</td>\n      <td>-0.195620</td>\n      <td>-0.142891</td>\n      <td>-0.215504</td>\n      <td>-0.039051</td>\n      <td>-0.008063</td>\n      <td>-0.058871</td>\n      <td>0.120463</td>\n      <td>...</td>\n      <td>0.002021</td>\n      <td>-9.120227e-03</td>\n      <td>2.982107e-03</td>\n      <td>-0.011520</td>\n      <td>-0.006776</td>\n      <td>0.004820</td>\n      <td>-0.014172</td>\n      <td>0.002584</td>\n      <td>-1.039435e-03</td>\n      <td>0.033846</td>\n    </tr>\n    <tr>\n      <th>37</th>\n      <td>per</td>\n      <td>6.028335</td>\n      <td>-0.904722</td>\n      <td>0.224634</td>\n      <td>0.021182</td>\n      <td>-0.067715</td>\n      <td>0.884588</td>\n      <td>0.006081</td>\n      <td>0.025655</td>\n      <td>-0.028096</td>\n      <td>...</td>\n      <td>-0.000011</td>\n      <td>-8.508483e-07</td>\n      <td>5.114984e-09</td>\n      <td>0.000008</td>\n      <td>0.000018</td>\n      <td>-0.000021</td>\n      <td>-0.000036</td>\n      <td>-0.000005</td>\n      <td>-1.908247e-05</td>\n      <td>-0.000004</td>\n    </tr>\n    <tr>\n      <th>38</th>\n      <td>per</td>\n      <td>6.000123</td>\n      <td>0.074781</td>\n      <td>-0.239641</td>\n      <td>-0.181075</td>\n      <td>-0.329846</td>\n      <td>-0.087698</td>\n      <td>-0.062631</td>\n      <td>-0.550162</td>\n      <td>-0.670491</td>\n      <td>...</td>\n      <td>-0.000011</td>\n      <td>-1.518608e-05</td>\n      <td>1.311504e-05</td>\n      <td>0.000009</td>\n      <td>0.000009</td>\n      <td>0.000006</td>\n      <td>-0.000031</td>\n      <td>0.000017</td>\n      <td>9.115533e-07</td>\n      <td>-0.000008</td>\n    </tr>\n    <tr>\n      <th>39</th>\n      <td>per</td>\n      <td>5.998953</td>\n      <td>0.072186</td>\n      <td>-0.226844</td>\n      <td>-0.164635</td>\n      <td>-0.280608</td>\n      <td>-0.063379</td>\n      <td>-0.026210</td>\n      <td>-0.155031</td>\n      <td>0.548019</td>\n      <td>...</td>\n      <td>-0.000013</td>\n      <td>-1.700625e-05</td>\n      <td>1.468650e-05</td>\n      <td>0.000010</td>\n      <td>0.000010</td>\n      <td>0.000007</td>\n      <td>-0.000035</td>\n      <td>0.000019</td>\n      <td>1.021444e-06</td>\n      <td>-0.000008</td>\n    </tr>\n  </tbody>\n</table>\n<p>20 rows × 301 columns</p>\n</div>"
     },
     "metadata": {},
     "execution_count": 6
    }
   ],
   "source": [
    "\n",
    "bigdf = a2.create_table(instances)\n",
    "bigdf[20:40]"
   ]
  },
  {
   "cell_type": "code",
   "execution_count": 7,
   "metadata": {},
   "outputs": [
    {
     "output_type": "execute_result",
     "data": {
      "text/plain": [
       "(array([[ 2.39700000e+04,  5.00861132e+00,  8.79692931e-02, ...,\n",
       "          8.35827654e-05, -2.88312724e-05,  2.15657469e-05],\n",
       "        [ 6.68250000e+04,  6.99079521e+00,  8.55250670e-02, ...,\n",
       "          2.07168327e-03, -1.08238816e-04,  7.44886344e-04],\n",
       "        [ 5.91520000e+04,  4.99615416e+00,  6.17300500e-02, ...,\n",
       "          8.11853014e-03, -1.24681696e-03,  4.56520278e-03],\n",
       "        ...,\n",
       "        [ 1.73580000e+04,  6.02833453e+00, -9.04722127e-01, ...,\n",
       "         -5.39032500e-06, -1.90824711e-05, -3.78032220e-06],\n",
       "        [ 5.14580000e+04,  6.02833453e+00, -9.04722127e-01, ...,\n",
       "         -5.39032500e-06, -1.90824711e-05, -3.78032220e-06],\n",
       "        [ 5.98600000e+04,  5.00861132e+00,  8.79692931e-02, ...,\n",
       "          8.35827654e-05, -2.88312724e-05,  2.15657469e-05]]),\n",
       " 0        gpe\n",
       " 1        geo\n",
       " 2        geo\n",
       " 3        art\n",
       " 4        geo\n",
       "         ... \n",
       " 55343    tim\n",
       " 55344    tim\n",
       " 55345    per\n",
       " 55346    art\n",
       " 55347    tim\n",
       " Name: Class, Length: 55348, dtype: object,\n",
       " array([[ 1.20000000e+01,  7.02847742e+00,  6.21166270e-01, ...,\n",
       "          6.19831229e-02,  3.54149714e-03, -4.02198976e-02],\n",
       "        [ 1.70000000e+01,  5.99895261e+00,  7.21856260e-02, ...,\n",
       "          1.89687940e-05,  1.02144422e-06, -8.42341278e-06],\n",
       "        [ 2.10000000e+01,  5.98931520e+00,  5.61172270e-02, ...,\n",
       "          1.69421110e-03,  6.85820645e-05, -7.48687476e-04],\n",
       "        ...,\n",
       "        [ 6.91550000e+04,  3.00130558e+00,  6.18990813e-02, ...,\n",
       "         -3.23561896e-04, -3.11003580e-03,  2.90313155e-03],\n",
       "        [ 6.91560000e+04,  6.02833453e+00, -9.04722127e-01, ...,\n",
       "         -5.39032500e-06, -1.90824711e-05, -3.78032220e-06],\n",
       "        [ 6.91720000e+04,  4.99882143e+00,  5.95070064e-02, ...,\n",
       "          1.64247186e-05,  8.84647510e-07, -7.29358353e-06]]),\n",
       " 0        geo\n",
       " 1        geo\n",
       " 2        gpe\n",
       " 3        gpe\n",
       " 4        per\n",
       "         ... \n",
       " 13832    tim\n",
       " 13833    tim\n",
       " 13834    tim\n",
       " 13835    tim\n",
       " 13836    per\n",
       " Name: Class, Length: 13837, dtype: object)"
      ]
     },
     "metadata": {},
     "execution_count": 7
    }
   ],
   "source": [
    "train_X, train_y, test_X, test_y = a2.ttsplit(bigdf)\n",
    "\n",
    "# X and y mean feature matrix and class respectively.\n",
    "train_X, train_y, test_X, test_y"
   ]
  },
  {
   "cell_type": "code",
   "execution_count": 8,
   "metadata": {},
   "outputs": [
    {
     "output_type": "execute_result",
     "data": {
      "text/plain": [
       "0.2"
      ]
     },
     "metadata": {},
     "execution_count": 8
    }
   ],
   "source": [
    "len(test_y) / (len(test_y) + len(train_y))"
   ]
  },
  {
   "cell_type": "code",
   "execution_count": 9,
   "metadata": {},
   "outputs": [
    {
     "output_type": "execute_result",
     "data": {
      "text/plain": [
       "0.2"
      ]
     },
     "metadata": {},
     "execution_count": 9
    }
   ],
   "source": [
    "len(test_X) / (len(test_X) + len(train_X))"
   ]
  },
  {
   "cell_type": "code",
   "execution_count": 10,
   "metadata": {},
   "outputs": [
    {
     "output_type": "execute_result",
     "data": {
      "text/plain": [
       "'geo'"
      ]
     },
     "metadata": {},
     "execution_count": 10
    }
   ],
   "source": [
    "test_y[0]"
   ]
  },
  {
   "cell_type": "markdown",
   "metadata": {},
   "source": [
    "## Part 4 - Training the model (0 points)"
   ]
  },
  {
   "cell_type": "markdown",
   "metadata": {},
   "source": [
    "This part you won't do yourself."
   ]
  },
  {
   "cell_type": "code",
   "execution_count": 11,
   "metadata": {},
   "outputs": [
    {
     "output_type": "stream",
     "name": "stderr",
     "text": [
      "/usr/local/lib64/python3.7/site-packages/sklearn/svm/_base.py:986: ConvergenceWarning: Liblinear failed to converge, increase the number of iterations.\n  \"the number of iterations.\", ConvergenceWarning)\n"
     ]
    }
   ],
   "source": [
    "model = LinearSVC()\n",
    "model.fit(train_X, train_y)\n",
    "train_predictions = model.predict(train_X)\n",
    "test_predictions = model.predict(test_X)"
   ]
  },
  {
   "cell_type": "code",
   "execution_count": 12,
   "metadata": {},
   "outputs": [
    {
     "output_type": "execute_result",
     "data": {
      "text/plain": [
       "array(['geo', 'per', 'per', ..., 'geo', 'per', 'per'], dtype=object)"
      ]
     },
     "metadata": {},
     "execution_count": 12
    }
   ],
   "source": [
    "train_predictions"
   ]
  },
  {
   "cell_type": "code",
   "execution_count": 13,
   "metadata": {},
   "outputs": [
    {
     "output_type": "execute_result",
     "data": {
      "text/plain": [
       "0        gpe\n",
       "1        geo\n",
       "2        geo\n",
       "3        art\n",
       "4        geo\n",
       "        ... \n",
       "55343    tim\n",
       "55344    tim\n",
       "55345    per\n",
       "55346    art\n",
       "55347    tim\n",
       "Name: Class, Length: 55348, dtype: object"
      ]
     },
     "metadata": {},
     "execution_count": 13
    }
   ],
   "source": [
    "train_y"
   ]
  },
  {
   "cell_type": "code",
   "execution_count": 14,
   "metadata": {},
   "outputs": [
    {
     "output_type": "execute_result",
     "data": {
      "text/plain": [
       "array(['geo', 'geo', 'geo', ..., 'per', 'per', 'per'], dtype=object)"
      ]
     },
     "metadata": {},
     "execution_count": 14
    }
   ],
   "source": [
    "test_predictions"
   ]
  },
  {
   "cell_type": "code",
   "execution_count": 15,
   "metadata": {},
   "outputs": [
    {
     "output_type": "execute_result",
     "data": {
      "text/plain": [
       "0        geo\n",
       "1        geo\n",
       "2        gpe\n",
       "3        gpe\n",
       "4        per\n",
       "        ... \n",
       "13832    tim\n",
       "13833    tim\n",
       "13834    tim\n",
       "13835    tim\n",
       "13836    per\n",
       "Name: Class, Length: 13837, dtype: object"
      ]
     },
     "metadata": {},
     "execution_count": 15
    }
   ],
   "source": [
    "test_y"
   ]
  },
  {
   "cell_type": "markdown",
   "metadata": {},
   "source": [
    "## Part 5 - Evaluation (5 points)"
   ]
  },
  {
   "cell_type": "markdown",
   "metadata": {},
   "source": [
    "Investigate for yourself what a \"confusion matrix\".  Then implement a function that takes the data and produces a confusion matrix in any readable form that allows us to compare the performance of the model by class.  "
   ]
  },
  {
   "source": [
    "a2.confusion_matrix(test_y, test_predictions)"
   ],
   "cell_type": "code",
   "metadata": {},
   "execution_count": 16,
   "outputs": [
    {
     "output_type": "execute_result",
     "data": {
      "text/plain": [
       "     art  eve   geo  gpe  nat  org   per  tim\n",
       "art    0    0    69    1    0    6    20    0\n",
       "eve    2    2    34    0    0    8    45    0\n",
       "geo  128   96  1541    7    0  522  1834    0\n",
       "gpe   61   58  1213   18    0  253   948    0\n",
       "nat    0    0    23    0    0    3    10    0\n",
       "org   58   58   983    8    0  339   963    0\n",
       "per   79   82   779    5    0  327   972    0\n",
       "tim   67   58   896    9    0  252  1000    0"
      ],
      "text/html": "<div>\n<style scoped>\n    .dataframe tbody tr th:only-of-type {\n        vertical-align: middle;\n    }\n\n    .dataframe tbody tr th {\n        vertical-align: top;\n    }\n\n    .dataframe thead th {\n        text-align: right;\n    }\n</style>\n<table border=\"1\" class=\"dataframe\">\n  <thead>\n    <tr style=\"text-align: right;\">\n      <th></th>\n      <th>art</th>\n      <th>eve</th>\n      <th>geo</th>\n      <th>gpe</th>\n      <th>nat</th>\n      <th>org</th>\n      <th>per</th>\n      <th>tim</th>\n    </tr>\n  </thead>\n  <tbody>\n    <tr>\n      <th>art</th>\n      <td>0</td>\n      <td>0</td>\n      <td>69</td>\n      <td>1</td>\n      <td>0</td>\n      <td>6</td>\n      <td>20</td>\n      <td>0</td>\n    </tr>\n    <tr>\n      <th>eve</th>\n      <td>2</td>\n      <td>2</td>\n      <td>34</td>\n      <td>0</td>\n      <td>0</td>\n      <td>8</td>\n      <td>45</td>\n      <td>0</td>\n    </tr>\n    <tr>\n      <th>geo</th>\n      <td>128</td>\n      <td>96</td>\n      <td>1541</td>\n      <td>7</td>\n      <td>0</td>\n      <td>522</td>\n      <td>1834</td>\n      <td>0</td>\n    </tr>\n    <tr>\n      <th>gpe</th>\n      <td>61</td>\n      <td>58</td>\n      <td>1213</td>\n      <td>18</td>\n      <td>0</td>\n      <td>253</td>\n      <td>948</td>\n      <td>0</td>\n    </tr>\n    <tr>\n      <th>nat</th>\n      <td>0</td>\n      <td>0</td>\n      <td>23</td>\n      <td>0</td>\n      <td>0</td>\n      <td>3</td>\n      <td>10</td>\n      <td>0</td>\n    </tr>\n    <tr>\n      <th>org</th>\n      <td>58</td>\n      <td>58</td>\n      <td>983</td>\n      <td>8</td>\n      <td>0</td>\n      <td>339</td>\n      <td>963</td>\n      <td>0</td>\n    </tr>\n    <tr>\n      <th>per</th>\n      <td>79</td>\n      <td>82</td>\n      <td>779</td>\n      <td>5</td>\n      <td>0</td>\n      <td>327</td>\n      <td>972</td>\n      <td>0</td>\n    </tr>\n    <tr>\n      <th>tim</th>\n      <td>67</td>\n      <td>58</td>\n      <td>896</td>\n      <td>9</td>\n      <td>0</td>\n      <td>252</td>\n      <td>1000</td>\n      <td>0</td>\n    </tr>\n  </tbody>\n</table>\n</div>"
     },
     "metadata": {},
     "execution_count": 16
    }
   ]
  },
  {
   "cell_type": "code",
   "execution_count": 17,
   "metadata": {},
   "outputs": [
    {
     "output_type": "execute_result",
     "data": {
      "text/plain": [
       "     art  eve   geo  gpe  nat   org   per  tim\n",
       "art    5    6   324    0    0    35    64    0\n",
       "eve    6    4   170    0    0    29   150    0\n",
       "geo  537  424  6154   32    0  1901  7524    0\n",
       "gpe  210  232  4559   68    0  1028  3652    0\n",
       "nat    3    3   103    1    0    15    39    0\n",
       "org  250  256  4126   50    0  1332  3937    0\n",
       "per  283  300  3161   20    0  1271  3791    0\n",
       "tim  262  267  3662   26    0  1084  3992    0"
      ],
      "text/html": "<div>\n<style scoped>\n    .dataframe tbody tr th:only-of-type {\n        vertical-align: middle;\n    }\n\n    .dataframe tbody tr th {\n        vertical-align: top;\n    }\n\n    .dataframe thead th {\n        text-align: right;\n    }\n</style>\n<table border=\"1\" class=\"dataframe\">\n  <thead>\n    <tr style=\"text-align: right;\">\n      <th></th>\n      <th>art</th>\n      <th>eve</th>\n      <th>geo</th>\n      <th>gpe</th>\n      <th>nat</th>\n      <th>org</th>\n      <th>per</th>\n      <th>tim</th>\n    </tr>\n  </thead>\n  <tbody>\n    <tr>\n      <th>art</th>\n      <td>5</td>\n      <td>6</td>\n      <td>324</td>\n      <td>0</td>\n      <td>0</td>\n      <td>35</td>\n      <td>64</td>\n      <td>0</td>\n    </tr>\n    <tr>\n      <th>eve</th>\n      <td>6</td>\n      <td>4</td>\n      <td>170</td>\n      <td>0</td>\n      <td>0</td>\n      <td>29</td>\n      <td>150</td>\n      <td>0</td>\n    </tr>\n    <tr>\n      <th>geo</th>\n      <td>537</td>\n      <td>424</td>\n      <td>6154</td>\n      <td>32</td>\n      <td>0</td>\n      <td>1901</td>\n      <td>7524</td>\n      <td>0</td>\n    </tr>\n    <tr>\n      <th>gpe</th>\n      <td>210</td>\n      <td>232</td>\n      <td>4559</td>\n      <td>68</td>\n      <td>0</td>\n      <td>1028</td>\n      <td>3652</td>\n      <td>0</td>\n    </tr>\n    <tr>\n      <th>nat</th>\n      <td>3</td>\n      <td>3</td>\n      <td>103</td>\n      <td>1</td>\n      <td>0</td>\n      <td>15</td>\n      <td>39</td>\n      <td>0</td>\n    </tr>\n    <tr>\n      <th>org</th>\n      <td>250</td>\n      <td>256</td>\n      <td>4126</td>\n      <td>50</td>\n      <td>0</td>\n      <td>1332</td>\n      <td>3937</td>\n      <td>0</td>\n    </tr>\n    <tr>\n      <th>per</th>\n      <td>283</td>\n      <td>300</td>\n      <td>3161</td>\n      <td>20</td>\n      <td>0</td>\n      <td>1271</td>\n      <td>3791</td>\n      <td>0</td>\n    </tr>\n    <tr>\n      <th>tim</th>\n      <td>262</td>\n      <td>267</td>\n      <td>3662</td>\n      <td>26</td>\n      <td>0</td>\n      <td>1084</td>\n      <td>3992</td>\n      <td>0</td>\n    </tr>\n  </tbody>\n</table>\n</div>"
     },
     "metadata": {},
     "execution_count": 17
    }
   ],
   "source": [
    "a2.confusion_matrix(train_y, train_predictions)"
   ]
  },
  {
   "cell_type": "markdown",
   "metadata": {},
   "source": [
    "Examine the matrix and describe your observations in README.md.  In particular, what do you notice about the predictions on the training data compared to those on the test data."
   ]
  },
  {
   "cell_type": "markdown",
   "metadata": {},
   "source": [
    "## Bonus Part A - Error analysis (2 points)"
   ]
  },
  {
   "cell_type": "markdown",
   "metadata": {},
   "source": [
    "Look at the weakest-performing classes in the confusion matrix (or any, if they all perform poorly to the same extent).  Find some examples in the test data on which the classifier classified incorrectly for those classes.  What do you think is the reason why those are hard?  Consider linguistic factors and statistical factors, if applicable.  Write your answer in README.md."
   ]
  },
  {
   "cell_type": "markdown",
   "metadata": {},
   "source": [
    "## Bonus Part B - Expanding the feature space (7 points)"
   ]
  },
  {
   "cell_type": "markdown",
   "metadata": {},
   "source": [
    "Run the entire process above, but incorporate part-of-speech tag information into the feature vectors.  It's your choice as to how to do this, but document it in README.md.  Your new process should run from the single call below:"
   ]
  },
  {
   "cell_type": "code",
   "execution_count": 18,
   "metadata": {},
   "outputs": [],
   "source": [
    "a2.bonusb('/scratch/lt2222-v21-resources/GMB_dataset.txt')"
   ]
  }
 ],
 "metadata": {
  "kernelspec": {
   "display_name": "Python 3",
   "language": "python",
   "name": "python3"
  },
  "language_info": {
   "codemirror_mode": {
    "name": "ipython",
    "version": 3
   },
   "file_extension": ".py",
   "mimetype": "text/x-python",
   "name": "python",
   "nbconvert_exporter": "python",
   "pygments_lexer": "ipython3",
   "version": "3.7.4-final"
  }
 },
 "nbformat": 4,
 "nbformat_minor": 2
}